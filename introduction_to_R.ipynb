{
  "nbformat": 4,
  "nbformat_minor": 0,
  "metadata": {
    "colab": {
      "name": "introduction to R",
      "provenance": [],
      "include_colab_link": true
    },
    "kernelspec": {
      "name": "ir",
      "display_name": "R"
    },
    "language_info": {
      "name": "R"
    }
  },
  "cells": [
    {
      "cell_type": "markdown",
      "metadata": {
        "id": "view-in-github",
        "colab_type": "text"
      },
      "source": [
        "<a href=\"https://colab.research.google.com/github/xumeiying/Stats-for-Political-Scientists/blob/main/introduction_to_R.ipynb\" target=\"_parent\"><img src=\"https://colab.research.google.com/assets/colab-badge.svg\" alt=\"Open In Colab\"/></a>"
      ]
    },
    {
      "cell_type": "markdown",
      "source": [
        "# Introduction to Programming in R\n",
        "GOV Department Math Camp \n",
        "\n",
        "UT-Austin 08/18/2022\n",
        "\n",
        "Meiying Xu\n",
        "\n",
        "Programming is the art of asking your computer to do favors for you using language that computers understand. You do not need to be a computer scientist to be an excellent programmer; all of you can and will write high-quality code. The goal of this lecture is to introduce some basic programming concepts and terminology, and to give you a sense of what you can do with it."
      ],
      "metadata": {
        "id": "O9zMbX4HSzc6"
      }
    },
    {
      "cell_type": "markdown",
      "source": [
        "## Objects\n",
        "\n",
        "R is based around \"objects.\"  Numbers, variables, graphs, etc...  All objects, as far as R is concerned. Usually, the programming tasks that we want to accomplish involve taking one or more objects as inputs, performing one or more functions on them, and \"returning\" one or more new objects.\n",
        "\n",
        "Let's say we want to compute 2+2. R understands this as an operation in which we perform a function (addition) on two objects of class \"numeric\" (2 and 2) and return one object of class \"numeric\" (4). \n"
      ],
      "metadata": {
        "id": "GH4DT2dtUJMm"
      }
    },
    {
      "cell_type": "code",
      "source": [
        "2 + 2\n",
        "class(2)\n",
        "class(2+2)"
      ],
      "metadata": {
        "id": "DzONAPXiYnMv",
        "colab": {
          "base_uri": "https://localhost:8080/",
          "height": 69
        },
        "outputId": "3d4e20b6-5e58-45be-dd17-01feb8f5e613"
      },
      "execution_count": null,
      "outputs": [
        {
          "output_type": "display_data",
          "data": {
            "text/html": [
              "4"
            ],
            "text/markdown": "4",
            "text/latex": "4",
            "text/plain": [
              "[1] 4"
            ]
          },
          "metadata": {}
        },
        {
          "output_type": "display_data",
          "data": {
            "text/html": [
              "'numeric'"
            ],
            "text/markdown": "'numeric'",
            "text/latex": "'numeric'",
            "text/plain": [
              "[1] \"numeric\""
            ]
          },
          "metadata": {}
        },
        {
          "output_type": "display_data",
          "data": {
            "text/html": [
              "'numeric'"
            ],
            "text/markdown": "'numeric'",
            "text/latex": "'numeric'",
            "text/plain": [
              "[1] \"numeric\""
            ]
          },
          "metadata": {}
        }
      ]
    },
    {
      "cell_type": "markdown",
      "source": [
        "R understands the + sign as a special operator that means we want to add together the numbers on either side of it. Most functions in R take a different form, however, which you saw above with the `class()` function. Functions have names (such as \"class\") and \"arguments,\" which specify the types of objects that can be \"passed\" to the function and what happens to them. Arguments are entered inside the parentheses, and separated by commas. \n",
        "\n",
        " Here's another way to add 2 and 2:"
      ],
      "metadata": {
        "id": "TirKYz90Yogn"
      }
    },
    {
      "cell_type": "code",
      "source": [
        "sum(2,2)\n",
        "\n",
        "# If we wanted to know more about the sum() function:\n",
        "?sum\n",
        "\n",
        "# We can \"assign\" this value (4) to a named variable, and perform operations using the named object instead.\n",
        "four <- sum(2,2)\n",
        "class(four)\n",
        "sum(four, four)\n",
        "\n",
        "# It might seem pointless to name such a basic value - it's easier to type 4 than \"four.\" \n",
        "# But it makes life easier when working with longer expressions, for example:\n",
        "my_val <- sqrt(35^3/5) + 12^2 * 20\n"
      ],
      "metadata": {
        "colab": {
          "base_uri": "https://localhost:8080/",
          "height": 121
        },
        "id": "JLfweR69QUoK",
        "outputId": "3fd9b73f-6952-470f-8aa1-b5050149f771"
      },
      "execution_count": null,
      "outputs": [
        {
          "output_type": "display_data",
          "data": {
            "text/html": [
              "4"
            ],
            "text/markdown": "4",
            "text/latex": "4",
            "text/plain": [
              "[1] 4"
            ]
          },
          "metadata": {}
        },
        {
          "output_type": "display_data",
          "data": {
            "text/html": [
              "'numeric'"
            ],
            "text/markdown": "'numeric'",
            "text/latex": "'numeric'",
            "text/plain": [
              "[1] \"numeric\""
            ]
          },
          "metadata": {}
        },
        {
          "output_type": "display_data",
          "data": {
            "text/html": [
              "'numeric'"
            ],
            "text/markdown": "'numeric'",
            "text/latex": "'numeric'",
            "text/plain": [
              "[1] \"numeric\""
            ]
          },
          "metadata": {}
        },
        {
          "output_type": "display_data",
          "data": {
            "text/html": [
              "4"
            ],
            "text/markdown": "4",
            "text/latex": "4",
            "text/plain": [
              "[1] 4"
            ]
          },
          "metadata": {}
        },
        {
          "output_type": "display_data",
          "data": {
            "text/html": [
              "'numeric'"
            ],
            "text/markdown": "'numeric'",
            "text/latex": "'numeric'",
            "text/plain": [
              "[1] \"numeric\""
            ]
          },
          "metadata": {}
        },
        {
          "output_type": "display_data",
          "data": {
            "text/html": [
              "8"
            ],
            "text/markdown": "8",
            "text/latex": "8",
            "text/plain": [
              "[1] 8"
            ]
          },
          "metadata": {}
        }
      ]
    },
    {
      "cell_type": "markdown",
      "source": [
        "## Texts\n",
        "\n",
        "In addition to \"numeric\", R recognizes many other object classes.\n",
        "\n",
        "R knows how to work with text:"
      ],
      "metadata": {
        "id": "SpycvuwxfjUC"
      }
    },
    {
      "cell_type": "code",
      "source": [
        "my_text <- \"I love math camp, and there's nowhere else I'd rather be right now.\"\n",
        "class(my_text)\n",
        "cat(my_text)\n",
        "cat(my_text, \"Seriously!\")"
      ],
      "metadata": {
        "colab": {
          "base_uri": "https://localhost:8080/",
          "height": 72
        },
        "id": "hZyXREJWP208",
        "outputId": "2432bdfe-e417-4a78-c363-38572510ef22"
      },
      "execution_count": null,
      "outputs": [
        {
          "output_type": "display_data",
          "data": {
            "text/html": [
              "'character'"
            ],
            "text/markdown": "'character'",
            "text/latex": "'character'",
            "text/plain": [
              "[1] \"character\""
            ]
          },
          "metadata": {}
        },
        {
          "output_type": "stream",
          "name": "stdout",
          "text": [
            "I love math camp, and there's nowhere else I'd rather be right now.I love math camp, and there's nowhere else I'd rather be right now. Seriously!"
          ]
        }
      ]
    },
    {
      "cell_type": "markdown",
      "source": [
        "And Boolean logic, e.g. `TRUE` and `FALSE`. These are more useful for programming than you might think, because R uses them to evaluate whether or not certain conditions are met. Logical statements are also a good way to learn about how R \"thinks.\""
      ],
      "metadata": {
        "id": "7guxnKtBfqg4"
      }
    },
    {
      "cell_type": "code",
      "source": [
        "class(TRUE)\n",
        "class(FALSE)\n",
        "\n",
        "2 == 2\n",
        "4 != 2\n",
        "2 == \"2\"\n",
        "2 == \"2.0\"\n",
        "T == 1"
      ],
      "metadata": {
        "colab": {
          "base_uri": "https://localhost:8080/",
          "height": 138
        },
        "id": "fVvzGebnQOx2",
        "outputId": "1728518c-11a5-4559-b6b8-44411a622a87"
      },
      "execution_count": null,
      "outputs": [
        {
          "output_type": "display_data",
          "data": {
            "text/html": [
              "'logical'"
            ],
            "text/markdown": "'logical'",
            "text/latex": "'logical'",
            "text/plain": [
              "[1] \"logical\""
            ]
          },
          "metadata": {}
        },
        {
          "output_type": "display_data",
          "data": {
            "text/html": [
              "'logical'"
            ],
            "text/markdown": "'logical'",
            "text/latex": "'logical'",
            "text/plain": [
              "[1] \"logical\""
            ]
          },
          "metadata": {}
        },
        {
          "output_type": "display_data",
          "data": {
            "text/html": [
              "TRUE"
            ],
            "text/markdown": "TRUE",
            "text/latex": "TRUE",
            "text/plain": [
              "[1] TRUE"
            ]
          },
          "metadata": {}
        },
        {
          "output_type": "display_data",
          "data": {
            "text/html": [
              "TRUE"
            ],
            "text/markdown": "TRUE",
            "text/latex": "TRUE",
            "text/plain": [
              "[1] TRUE"
            ]
          },
          "metadata": {}
        },
        {
          "output_type": "display_data",
          "data": {
            "text/html": [
              "TRUE"
            ],
            "text/markdown": "TRUE",
            "text/latex": "TRUE",
            "text/plain": [
              "[1] TRUE"
            ]
          },
          "metadata": {}
        },
        {
          "output_type": "display_data",
          "data": {
            "text/html": [
              "FALSE"
            ],
            "text/markdown": "FALSE",
            "text/latex": "FALSE",
            "text/plain": [
              "[1] FALSE"
            ]
          },
          "metadata": {}
        },
        {
          "output_type": "display_data",
          "data": {
            "text/html": [
              "TRUE"
            ],
            "text/markdown": "TRUE",
            "text/latex": "TRUE",
            "text/plain": [
              "[1] TRUE"
            ]
          },
          "metadata": {}
        }
      ]
    },
    {
      "cell_type": "markdown",
      "source": [
        "## Vectors\n",
        "The real power of R becomes apparent once we start using vectors, which are one-dimensional sets of objects that share the same class. We can create vectors in R using the `c() `function (short for \"concatenate\"), and importantly we can perform functions on all of the objects in the vector at once."
      ],
      "metadata": {
        "id": "RMstUnk9TW2b"
      }
    },
    {
      "cell_type": "code",
      "source": [
        "numbers <- c(180, 230, 456, 100, 8)\n",
        "class(numbers)\n",
        "length(numbers)"
      ],
      "metadata": {
        "colab": {
          "base_uri": "https://localhost:8080/",
          "height": 52
        },
        "id": "GQMIS15KRb0P",
        "outputId": "f3fbd72b-91ba-490a-f3b1-b29331450d36"
      },
      "execution_count": null,
      "outputs": [
        {
          "output_type": "display_data",
          "data": {
            "text/html": [
              "'numeric'"
            ],
            "text/markdown": "'numeric'",
            "text/latex": "'numeric'",
            "text/plain": [
              "[1] \"numeric\""
            ]
          },
          "metadata": {}
        },
        {
          "output_type": "display_data",
          "data": {
            "text/html": [
              "5"
            ],
            "text/markdown": "5",
            "text/latex": "5",
            "text/plain": [
              "[1] 5"
            ]
          },
          "metadata": {}
        }
      ]
    },
    {
      "cell_type": "code",
      "source": [
        "# We can perform functions on vectors that return a single value:\n",
        "sum(numbers)\n",
        "mean(numbers)"
      ],
      "metadata": {
        "colab": {
          "base_uri": "https://localhost:8080/",
          "height": 52
        },
        "id": "QCJQQdSLjt_X",
        "outputId": "1c15e190-ccd4-470b-f41c-45ba17612d9e"
      },
      "execution_count": null,
      "outputs": [
        {
          "output_type": "display_data",
          "data": {
            "text/html": [
              "974"
            ],
            "text/markdown": "974",
            "text/latex": "974",
            "text/plain": [
              "[1] 974"
            ]
          },
          "metadata": {}
        },
        {
          "output_type": "display_data",
          "data": {
            "text/html": [
              "194.8"
            ],
            "text/markdown": "194.8",
            "text/latex": "194.8",
            "text/plain": [
              "[1] 194.8"
            ]
          },
          "metadata": {}
        }
      ]
    },
    {
      "cell_type": "code",
      "source": [
        "# And those that return a vector of the same length:\n",
        "sqrt(numbers)\n",
        "numbers - 2"
      ],
      "metadata": {
        "colab": {
          "base_uri": "https://localhost:8080/",
          "height": 52
        },
        "id": "_ihjW5XGjvr8",
        "outputId": "628dccfd-cb3c-47fa-8d17-93b2a964947f"
      },
      "execution_count": null,
      "outputs": [
        {
          "output_type": "display_data",
          "data": {
            "text/html": [
              "<style>\n",
              ".list-inline {list-style: none; margin:0; padding: 0}\n",
              ".list-inline>li {display: inline-block}\n",
              ".list-inline>li:not(:last-child)::after {content: \"\\00b7\"; padding: 0 .5ex}\n",
              "</style>\n",
              "<ol class=list-inline><li>13.4164078649987</li><li>15.1657508881031</li><li>21.3541565040626</li><li>10</li><li>2.82842712474619</li></ol>\n"
            ],
            "text/markdown": "1. 13.4164078649987\n2. 15.1657508881031\n3. 21.3541565040626\n4. 10\n5. 2.82842712474619\n\n\n",
            "text/latex": "\\begin{enumerate*}\n\\item 13.4164078649987\n\\item 15.1657508881031\n\\item 21.3541565040626\n\\item 10\n\\item 2.82842712474619\n\\end{enumerate*}\n",
            "text/plain": [
              "[1] 13.416408 15.165751 21.354157 10.000000  2.828427"
            ]
          },
          "metadata": {}
        },
        {
          "output_type": "display_data",
          "data": {
            "text/html": [
              "<style>\n",
              ".list-inline {list-style: none; margin:0; padding: 0}\n",
              ".list-inline>li {display: inline-block}\n",
              ".list-inline>li:not(:last-child)::after {content: \"\\00b7\"; padding: 0 .5ex}\n",
              "</style>\n",
              "<ol class=list-inline><li>178</li><li>228</li><li>454</li><li>98</li><li>6</li></ol>\n"
            ],
            "text/markdown": "1. 178\n2. 228\n3. 454\n4. 98\n5. 6\n\n\n",
            "text/latex": "\\begin{enumerate*}\n\\item 178\n\\item 228\n\\item 454\n\\item 98\n\\item 6\n\\end{enumerate*}\n",
            "text/plain": [
              "[1] 178 228 454  98   6"
            ]
          },
          "metadata": {}
        }
      ]
    },
    {
      "cell_type": "code",
      "source": [
        "# And those that return a vector of a different length:\n",
        "rep(numbers, times = 2)\n",
        "numbers[1:3]"
      ],
      "metadata": {
        "colab": {
          "base_uri": "https://localhost:8080/",
          "height": 52
        },
        "id": "WjBQ13zIjxx6",
        "outputId": "13c35af3-f34a-4537-d17e-f58a56477edd"
      },
      "execution_count": null,
      "outputs": [
        {
          "output_type": "display_data",
          "data": {
            "text/html": [
              "<style>\n",
              ".list-inline {list-style: none; margin:0; padding: 0}\n",
              ".list-inline>li {display: inline-block}\n",
              ".list-inline>li:not(:last-child)::after {content: \"\\00b7\"; padding: 0 .5ex}\n",
              "</style>\n",
              "<ol class=list-inline><li>180</li><li>230</li><li>456</li><li>100</li><li>8</li><li>180</li><li>230</li><li>456</li><li>100</li><li>8</li></ol>\n"
            ],
            "text/markdown": "1. 180\n2. 230\n3. 456\n4. 100\n5. 8\n6. 180\n7. 230\n8. 456\n9. 100\n10. 8\n\n\n",
            "text/latex": "\\begin{enumerate*}\n\\item 180\n\\item 230\n\\item 456\n\\item 100\n\\item 8\n\\item 180\n\\item 230\n\\item 456\n\\item 100\n\\item 8\n\\end{enumerate*}\n",
            "text/plain": [
              " [1] 180 230 456 100   8 180 230 456 100   8"
            ]
          },
          "metadata": {}
        },
        {
          "output_type": "display_data",
          "data": {
            "text/html": [
              "<style>\n",
              ".list-inline {list-style: none; margin:0; padding: 0}\n",
              ".list-inline>li {display: inline-block}\n",
              ".list-inline>li:not(:last-child)::after {content: \"\\00b7\"; padding: 0 .5ex}\n",
              "</style>\n",
              "<ol class=list-inline><li>180</li><li>230</li><li>456</li></ol>\n"
            ],
            "text/markdown": "1. 180\n2. 230\n3. 456\n\n\n",
            "text/latex": "\\begin{enumerate*}\n\\item 180\n\\item 230\n\\item 456\n\\end{enumerate*}\n",
            "text/plain": [
              "[1] 180 230 456"
            ]
          },
          "metadata": {}
        }
      ]
    },
    {
      "cell_type": "markdown",
      "source": [
        "We can even write our own function, if we want to do something specific with our vectors. Let's say we want to write a function that takes a numeric vector, raises each element to the nth power, then takes the sum of all elements and prints it out alongside a smiley face:\n"
      ],
      "metadata": {
        "id": "PsRuReJzTssW"
      }
    },
    {
      "cell_type": "code",
      "source": [
        "weird_function <- function(vector, power) {\n",
        "  step1 <- vector^power\n",
        "  step2 <- sum(step1)\n",
        "  cat(step2, \":~)\")\n",
        "}\n",
        "\n",
        "test_vec <- c(1,2,3)\n",
        "\n",
        "weird_function(test_vec, 2)"
      ],
      "metadata": {
        "colab": {
          "base_uri": "https://localhost:8080/",
          "height": 69
        },
        "id": "rC2NmIlrRv3H",
        "outputId": "7e422da5-e80b-4036-bb24-9a70cc650c28"
      },
      "execution_count": null,
      "outputs": [
        {
          "output_type": "stream",
          "name": "stdout",
          "text": [
            "14 :~)"
          ]
        },
        {
          "output_type": "display_data",
          "data": {
            "text/html": [
              "4.14626436994197"
            ],
            "text/markdown": "4.14626436994197",
            "text/latex": "4.14626436994197",
            "text/plain": [
              "[1] 4.146264"
            ]
          },
          "metadata": {}
        },
        {
          "output_type": "stream",
          "name": "stdout",
          "text": [
            "4.146264"
          ]
        }
      ]
    },
    {
      "cell_type": "markdown",
      "source": [
        "We can apply multiple functions to the same object(s), too. There are two main approaches to doing this. The traditional way is called nesting. Let's say we wanted to take the square root of each element in a vector, and then sum the resulting values:\n"
      ],
      "metadata": {
        "id": "Eam6AJV4UZOg"
      }
    },
    {
      "cell_type": "code",
      "source": [
        "sum(sqrt(test_vec))"
      ],
      "metadata": {
        "colab": {
          "base_uri": "https://localhost:8080/",
          "height": 34
        },
        "id": "0_jZJu1CUZCX",
        "outputId": "e1838aab-101d-45d6-c979-7b31dfb877af"
      },
      "execution_count": null,
      "outputs": [
        {
          "output_type": "display_data",
          "data": {
            "text/html": [
              "4.14626436994197"
            ],
            "text/markdown": "4.14626436994197",
            "text/latex": "4.14626436994197",
            "text/plain": [
              "[1] 4.146264"
            ]
          },
          "metadata": {}
        }
      ]
    },
    {
      "cell_type": "markdown",
      "source": [
        "Nested functions can seem counterintuitive, as our instinct is\n",
        "to read the function names from left to right to figure out the order of operations. But that's wrong: R begins by evaluating the function that is \"nested\" in another function (in this case, `sqrt()`) and then evaluates the outside function (`sum()`) on the object that is output by the inside function. To make nested functions easier for others to read, some programmers use whitespace creatively:\n",
        "\n"
      ],
      "metadata": {
        "id": "-t6QiU_3UhBF"
      }
    },
    {
      "cell_type": "code",
      "source": [
        "cat(\n",
        "  sum(\n",
        "    sqrt(test_vec)\n",
        "  )\n",
        ")"
      ],
      "metadata": {
        "colab": {
          "base_uri": "https://localhost:8080/"
        },
        "id": "aQs3fP0MUg0V",
        "outputId": "deb2b6dd-592f-460a-e20c-391e42df8699"
      },
      "execution_count": null,
      "outputs": [
        {
          "output_type": "stream",
          "name": "stdout",
          "text": [
            "4.146264"
          ]
        }
      ]
    },
    {
      "cell_type": "markdown",
      "source": [
        "## Functions\n",
        "The second, \"new-school\" way to perform multiple functions on the same input object is called piping. To do this, we'll need to install a package called \"`magrittr`\". Part of the beauty of R is that it's an open-source software: anybody can develop a package - which contains custom functions - for others to use.You can install packages easily using the `install.packages()`"
      ],
      "metadata": {
        "id": "8EiYZygWSkJw"
      }
    },
    {
      "cell_type": "code",
      "source": [
        "install.packages(\"magrittr\")"
      ],
      "metadata": {
        "colab": {
          "base_uri": "https://localhost:8080/"
        },
        "id": "kFlmLVYxSRVS",
        "outputId": "a41f6684-e0da-4d55-bb95-87e03f717488"
      },
      "execution_count": null,
      "outputs": [
        {
          "output_type": "stream",
          "name": "stderr",
          "text": [
            "Installing package into ‘/usr/local/lib/R/site-library’\n",
            "(as ‘lib’ is unspecified)\n",
            "\n"
          ]
        }
      ]
    },
    {
      "cell_type": "markdown",
      "source": [
        "Once you've installed a package once, you don't need to install it again (until you want to update it to a newer version). However, you will need to load it every time you begin a new R session:\n"
      ],
      "metadata": {
        "id": "Cm1cQKzwSw9P"
      }
    },
    {
      "cell_type": "code",
      "source": [
        "library(magrittr)"
      ],
      "metadata": {
        "id": "OkCkQEd2UsYq"
      },
      "execution_count": null,
      "outputs": []
    },
    {
      "cell_type": "markdown",
      "source": [
        "Now we have access to the pipe operator, `%>%`. The pipe operator takes the object to the left of it and inserts it into the first argument of the function to the right of it. The magrittr package comes with a shortcut for using the `pipe`: shift-command-m (or shift-control-m on a pc). Here's a basic example:"
      ],
      "metadata": {
        "id": "lpj0O6WOUu4I"
      }
    },
    {
      "cell_type": "code",
      "source": [
        "test_vec %>% sum()\n",
        "test_vec %>% sum() == sum(test_vec)"
      ],
      "metadata": {
        "colab": {
          "base_uri": "https://localhost:8080/",
          "height": 52
        },
        "id": "tzi-SuQOU0ka",
        "outputId": "b461c58a-ec64-4d98-ecfc-9d03085605bb"
      },
      "execution_count": null,
      "outputs": [
        {
          "output_type": "display_data",
          "data": {
            "text/html": [
              "6"
            ],
            "text/markdown": "6",
            "text/latex": "6",
            "text/plain": [
              "[1] 6"
            ]
          },
          "metadata": {}
        },
        {
          "output_type": "display_data",
          "data": {
            "text/html": [
              "TRUE"
            ],
            "text/markdown": "TRUE",
            "text/latex": "TRUE",
            "text/plain": [
              "[1] TRUE"
            ]
          },
          "metadata": {}
        }
      ]
    },
    {
      "cell_type": "markdown",
      "source": [
        "This is very useful for performing multiple functions on the same input object, in a way that is easy to read. Let's repeat the earlier example with `sqrt()`, `sum()`, and `cat()`, but now using pipes instead:"
      ],
      "metadata": {
        "id": "K9T2lDq-U9ro"
      }
    },
    {
      "cell_type": "code",
      "source": [
        "test_vec %>% \n",
        "  sqrt() %>% \n",
        "  sum() %>% \n",
        "  cat()"
      ],
      "metadata": {
        "colab": {
          "base_uri": "https://localhost:8080/"
        },
        "id": "ugey3uBRU9fq",
        "outputId": "330f213b-e58d-406a-fd65-fa2b24650877"
      },
      "execution_count": null,
      "outputs": [
        {
          "output_type": "stream",
          "name": "stdout",
          "text": [
            "4.146264"
          ]
        }
      ]
    },
    {
      "cell_type": "markdown",
      "source": [
        "\n",
        "The advantage here is that the code is quite intuitive: begin with the input object (`test vec`), then perform the `sqrt()` function on it, then perform the `sum()` function on that, and then perform `the cat()` function on that. The pipe was designed to work with other functions in the `'tidyverse'` family of packages (dplyr, tidyr, ggplot2, and others; read more here: https://www.tidyverse.org/). One disadvantage is that you can only pipe output into the first argument of a function.\n",
        "\n",
        "# Data Frame\n",
        "Let's look at one of the most important object classes for social science research: the data.frame. We'll use the `data()` function to load one of R's built-in datasets."
      ],
      "metadata": {
        "id": "pye0tFizVna4"
      }
    },
    {
      "cell_type": "code",
      "source": [
        "data(mtcars)\n",
        "View(mtcars)\n",
        "class(mtcars)"
      ],
      "metadata": {
        "colab": {
          "base_uri": "https://localhost:8080/",
          "height": 1000
        },
        "id": "os5jso_GV2Ls",
        "outputId": "5b8bd2ca-8597-40fb-bccc-05bced39303a"
      },
      "execution_count": null,
      "outputs": [
        {
          "output_type": "display_data",
          "data": {
            "text/plain": [
              "                    mpg  cyl disp  hp  drat wt    qsec  vs am gear carb\n",
              "Mazda RX4           21.0 6   160.0 110 3.90 2.620 16.46 0  1  4    4   \n",
              "Mazda RX4 Wag       21.0 6   160.0 110 3.90 2.875 17.02 0  1  4    4   \n",
              "Datsun 710          22.8 4   108.0  93 3.85 2.320 18.61 1  1  4    1   \n",
              "Hornet 4 Drive      21.4 6   258.0 110 3.08 3.215 19.44 1  0  3    1   \n",
              "Hornet Sportabout   18.7 8   360.0 175 3.15 3.440 17.02 0  0  3    2   \n",
              "Valiant             18.1 6   225.0 105 2.76 3.460 20.22 1  0  3    1   \n",
              "Duster 360          14.3 8   360.0 245 3.21 3.570 15.84 0  0  3    4   \n",
              "Merc 240D           24.4 4   146.7  62 3.69 3.190 20.00 1  0  4    2   \n",
              "Merc 230            22.8 4   140.8  95 3.92 3.150 22.90 1  0  4    2   \n",
              "Merc 280            19.2 6   167.6 123 3.92 3.440 18.30 1  0  4    4   \n",
              "Merc 280C           17.8 6   167.6 123 3.92 3.440 18.90 1  0  4    4   \n",
              "Merc 450SE          16.4 8   275.8 180 3.07 4.070 17.40 0  0  3    3   \n",
              "Merc 450SL          17.3 8   275.8 180 3.07 3.730 17.60 0  0  3    3   \n",
              "Merc 450SLC         15.2 8   275.8 180 3.07 3.780 18.00 0  0  3    3   \n",
              "Cadillac Fleetwood  10.4 8   472.0 205 2.93 5.250 17.98 0  0  3    4   \n",
              "Lincoln Continental 10.4 8   460.0 215 3.00 5.424 17.82 0  0  3    4   \n",
              "Chrysler Imperial   14.7 8   440.0 230 3.23 5.345 17.42 0  0  3    4   \n",
              "Fiat 128            32.4 4    78.7  66 4.08 2.200 19.47 1  1  4    1   \n",
              "Honda Civic         30.4 4    75.7  52 4.93 1.615 18.52 1  1  4    2   \n",
              "Toyota Corolla      33.9 4    71.1  65 4.22 1.835 19.90 1  1  4    1   \n",
              "Toyota Corona       21.5 4   120.1  97 3.70 2.465 20.01 1  0  3    1   \n",
              "Dodge Challenger    15.5 8   318.0 150 2.76 3.520 16.87 0  0  3    2   \n",
              "AMC Javelin         15.2 8   304.0 150 3.15 3.435 17.30 0  0  3    2   \n",
              "Camaro Z28          13.3 8   350.0 245 3.73 3.840 15.41 0  0  3    4   \n",
              "Pontiac Firebird    19.2 8   400.0 175 3.08 3.845 17.05 0  0  3    2   \n",
              "Fiat X1-9           27.3 4    79.0  66 4.08 1.935 18.90 1  1  4    1   \n",
              "Porsche 914-2       26.0 4   120.3  91 4.43 2.140 16.70 0  1  5    2   \n",
              "Lotus Europa        30.4 4    95.1 113 3.77 1.513 16.90 1  1  5    2   \n",
              "Ford Pantera L      15.8 8   351.0 264 4.22 3.170 14.50 0  1  5    4   \n",
              "Ferrari Dino        19.7 6   145.0 175 3.62 2.770 15.50 0  1  5    6   \n",
              "Maserati Bora       15.0 8   301.0 335 3.54 3.570 14.60 0  1  5    8   \n",
              "Volvo 142E          21.4 4   121.0 109 4.11 2.780 18.60 1  1  4    2   "
            ],
            "text/html": [
              "<table class=\"dataframe\">\n",
              "<caption>A data.frame: 32 × 11</caption>\n",
              "<thead>\n",
              "\t<tr><th></th><th scope=col>mpg</th><th scope=col>cyl</th><th scope=col>disp</th><th scope=col>hp</th><th scope=col>drat</th><th scope=col>wt</th><th scope=col>qsec</th><th scope=col>vs</th><th scope=col>am</th><th scope=col>gear</th><th scope=col>carb</th></tr>\n",
              "\t<tr><th></th><th scope=col>&lt;dbl&gt;</th><th scope=col>&lt;dbl&gt;</th><th scope=col>&lt;dbl&gt;</th><th scope=col>&lt;dbl&gt;</th><th scope=col>&lt;dbl&gt;</th><th scope=col>&lt;dbl&gt;</th><th scope=col>&lt;dbl&gt;</th><th scope=col>&lt;dbl&gt;</th><th scope=col>&lt;dbl&gt;</th><th scope=col>&lt;dbl&gt;</th><th scope=col>&lt;dbl&gt;</th></tr>\n",
              "</thead>\n",
              "<tbody>\n",
              "\t<tr><th scope=row>Mazda RX4</th><td>21.0</td><td>6</td><td>160.0</td><td>110</td><td>3.90</td><td>2.620</td><td>16.46</td><td>0</td><td>1</td><td>4</td><td>4</td></tr>\n",
              "\t<tr><th scope=row>Mazda RX4 Wag</th><td>21.0</td><td>6</td><td>160.0</td><td>110</td><td>3.90</td><td>2.875</td><td>17.02</td><td>0</td><td>1</td><td>4</td><td>4</td></tr>\n",
              "\t<tr><th scope=row>Datsun 710</th><td>22.8</td><td>4</td><td>108.0</td><td> 93</td><td>3.85</td><td>2.320</td><td>18.61</td><td>1</td><td>1</td><td>4</td><td>1</td></tr>\n",
              "\t<tr><th scope=row>Hornet 4 Drive</th><td>21.4</td><td>6</td><td>258.0</td><td>110</td><td>3.08</td><td>3.215</td><td>19.44</td><td>1</td><td>0</td><td>3</td><td>1</td></tr>\n",
              "\t<tr><th scope=row>Hornet Sportabout</th><td>18.7</td><td>8</td><td>360.0</td><td>175</td><td>3.15</td><td>3.440</td><td>17.02</td><td>0</td><td>0</td><td>3</td><td>2</td></tr>\n",
              "\t<tr><th scope=row>Valiant</th><td>18.1</td><td>6</td><td>225.0</td><td>105</td><td>2.76</td><td>3.460</td><td>20.22</td><td>1</td><td>0</td><td>3</td><td>1</td></tr>\n",
              "\t<tr><th scope=row>Duster 360</th><td>14.3</td><td>8</td><td>360.0</td><td>245</td><td>3.21</td><td>3.570</td><td>15.84</td><td>0</td><td>0</td><td>3</td><td>4</td></tr>\n",
              "\t<tr><th scope=row>Merc 240D</th><td>24.4</td><td>4</td><td>146.7</td><td> 62</td><td>3.69</td><td>3.190</td><td>20.00</td><td>1</td><td>0</td><td>4</td><td>2</td></tr>\n",
              "\t<tr><th scope=row>Merc 230</th><td>22.8</td><td>4</td><td>140.8</td><td> 95</td><td>3.92</td><td>3.150</td><td>22.90</td><td>1</td><td>0</td><td>4</td><td>2</td></tr>\n",
              "\t<tr><th scope=row>Merc 280</th><td>19.2</td><td>6</td><td>167.6</td><td>123</td><td>3.92</td><td>3.440</td><td>18.30</td><td>1</td><td>0</td><td>4</td><td>4</td></tr>\n",
              "\t<tr><th scope=row>Merc 280C</th><td>17.8</td><td>6</td><td>167.6</td><td>123</td><td>3.92</td><td>3.440</td><td>18.90</td><td>1</td><td>0</td><td>4</td><td>4</td></tr>\n",
              "\t<tr><th scope=row>Merc 450SE</th><td>16.4</td><td>8</td><td>275.8</td><td>180</td><td>3.07</td><td>4.070</td><td>17.40</td><td>0</td><td>0</td><td>3</td><td>3</td></tr>\n",
              "\t<tr><th scope=row>Merc 450SL</th><td>17.3</td><td>8</td><td>275.8</td><td>180</td><td>3.07</td><td>3.730</td><td>17.60</td><td>0</td><td>0</td><td>3</td><td>3</td></tr>\n",
              "\t<tr><th scope=row>Merc 450SLC</th><td>15.2</td><td>8</td><td>275.8</td><td>180</td><td>3.07</td><td>3.780</td><td>18.00</td><td>0</td><td>0</td><td>3</td><td>3</td></tr>\n",
              "\t<tr><th scope=row>Cadillac Fleetwood</th><td>10.4</td><td>8</td><td>472.0</td><td>205</td><td>2.93</td><td>5.250</td><td>17.98</td><td>0</td><td>0</td><td>3</td><td>4</td></tr>\n",
              "\t<tr><th scope=row>Lincoln Continental</th><td>10.4</td><td>8</td><td>460.0</td><td>215</td><td>3.00</td><td>5.424</td><td>17.82</td><td>0</td><td>0</td><td>3</td><td>4</td></tr>\n",
              "\t<tr><th scope=row>Chrysler Imperial</th><td>14.7</td><td>8</td><td>440.0</td><td>230</td><td>3.23</td><td>5.345</td><td>17.42</td><td>0</td><td>0</td><td>3</td><td>4</td></tr>\n",
              "\t<tr><th scope=row>Fiat 128</th><td>32.4</td><td>4</td><td> 78.7</td><td> 66</td><td>4.08</td><td>2.200</td><td>19.47</td><td>1</td><td>1</td><td>4</td><td>1</td></tr>\n",
              "\t<tr><th scope=row>Honda Civic</th><td>30.4</td><td>4</td><td> 75.7</td><td> 52</td><td>4.93</td><td>1.615</td><td>18.52</td><td>1</td><td>1</td><td>4</td><td>2</td></tr>\n",
              "\t<tr><th scope=row>Toyota Corolla</th><td>33.9</td><td>4</td><td> 71.1</td><td> 65</td><td>4.22</td><td>1.835</td><td>19.90</td><td>1</td><td>1</td><td>4</td><td>1</td></tr>\n",
              "\t<tr><th scope=row>Toyota Corona</th><td>21.5</td><td>4</td><td>120.1</td><td> 97</td><td>3.70</td><td>2.465</td><td>20.01</td><td>1</td><td>0</td><td>3</td><td>1</td></tr>\n",
              "\t<tr><th scope=row>Dodge Challenger</th><td>15.5</td><td>8</td><td>318.0</td><td>150</td><td>2.76</td><td>3.520</td><td>16.87</td><td>0</td><td>0</td><td>3</td><td>2</td></tr>\n",
              "\t<tr><th scope=row>AMC Javelin</th><td>15.2</td><td>8</td><td>304.0</td><td>150</td><td>3.15</td><td>3.435</td><td>17.30</td><td>0</td><td>0</td><td>3</td><td>2</td></tr>\n",
              "\t<tr><th scope=row>Camaro Z28</th><td>13.3</td><td>8</td><td>350.0</td><td>245</td><td>3.73</td><td>3.840</td><td>15.41</td><td>0</td><td>0</td><td>3</td><td>4</td></tr>\n",
              "\t<tr><th scope=row>Pontiac Firebird</th><td>19.2</td><td>8</td><td>400.0</td><td>175</td><td>3.08</td><td>3.845</td><td>17.05</td><td>0</td><td>0</td><td>3</td><td>2</td></tr>\n",
              "\t<tr><th scope=row>Fiat X1-9</th><td>27.3</td><td>4</td><td> 79.0</td><td> 66</td><td>4.08</td><td>1.935</td><td>18.90</td><td>1</td><td>1</td><td>4</td><td>1</td></tr>\n",
              "\t<tr><th scope=row>Porsche 914-2</th><td>26.0</td><td>4</td><td>120.3</td><td> 91</td><td>4.43</td><td>2.140</td><td>16.70</td><td>0</td><td>1</td><td>5</td><td>2</td></tr>\n",
              "\t<tr><th scope=row>Lotus Europa</th><td>30.4</td><td>4</td><td> 95.1</td><td>113</td><td>3.77</td><td>1.513</td><td>16.90</td><td>1</td><td>1</td><td>5</td><td>2</td></tr>\n",
              "\t<tr><th scope=row>Ford Pantera L</th><td>15.8</td><td>8</td><td>351.0</td><td>264</td><td>4.22</td><td>3.170</td><td>14.50</td><td>0</td><td>1</td><td>5</td><td>4</td></tr>\n",
              "\t<tr><th scope=row>Ferrari Dino</th><td>19.7</td><td>6</td><td>145.0</td><td>175</td><td>3.62</td><td>2.770</td><td>15.50</td><td>0</td><td>1</td><td>5</td><td>6</td></tr>\n",
              "\t<tr><th scope=row>Maserati Bora</th><td>15.0</td><td>8</td><td>301.0</td><td>335</td><td>3.54</td><td>3.570</td><td>14.60</td><td>0</td><td>1</td><td>5</td><td>8</td></tr>\n",
              "\t<tr><th scope=row>Volvo 142E</th><td>21.4</td><td>4</td><td>121.0</td><td>109</td><td>4.11</td><td>2.780</td><td>18.60</td><td>1</td><td>1</td><td>4</td><td>2</td></tr>\n",
              "</tbody>\n",
              "</table>\n"
            ],
            "text/markdown": "\nA data.frame: 32 × 11\n\n| <!--/--> | mpg &lt;dbl&gt; | cyl &lt;dbl&gt; | disp &lt;dbl&gt; | hp &lt;dbl&gt; | drat &lt;dbl&gt; | wt &lt;dbl&gt; | qsec &lt;dbl&gt; | vs &lt;dbl&gt; | am &lt;dbl&gt; | gear &lt;dbl&gt; | carb &lt;dbl&gt; |\n|---|---|---|---|---|---|---|---|---|---|---|---|\n| Mazda RX4 | 21.0 | 6 | 160.0 | 110 | 3.90 | 2.620 | 16.46 | 0 | 1 | 4 | 4 |\n| Mazda RX4 Wag | 21.0 | 6 | 160.0 | 110 | 3.90 | 2.875 | 17.02 | 0 | 1 | 4 | 4 |\n| Datsun 710 | 22.8 | 4 | 108.0 |  93 | 3.85 | 2.320 | 18.61 | 1 | 1 | 4 | 1 |\n| Hornet 4 Drive | 21.4 | 6 | 258.0 | 110 | 3.08 | 3.215 | 19.44 | 1 | 0 | 3 | 1 |\n| Hornet Sportabout | 18.7 | 8 | 360.0 | 175 | 3.15 | 3.440 | 17.02 | 0 | 0 | 3 | 2 |\n| Valiant | 18.1 | 6 | 225.0 | 105 | 2.76 | 3.460 | 20.22 | 1 | 0 | 3 | 1 |\n| Duster 360 | 14.3 | 8 | 360.0 | 245 | 3.21 | 3.570 | 15.84 | 0 | 0 | 3 | 4 |\n| Merc 240D | 24.4 | 4 | 146.7 |  62 | 3.69 | 3.190 | 20.00 | 1 | 0 | 4 | 2 |\n| Merc 230 | 22.8 | 4 | 140.8 |  95 | 3.92 | 3.150 | 22.90 | 1 | 0 | 4 | 2 |\n| Merc 280 | 19.2 | 6 | 167.6 | 123 | 3.92 | 3.440 | 18.30 | 1 | 0 | 4 | 4 |\n| Merc 280C | 17.8 | 6 | 167.6 | 123 | 3.92 | 3.440 | 18.90 | 1 | 0 | 4 | 4 |\n| Merc 450SE | 16.4 | 8 | 275.8 | 180 | 3.07 | 4.070 | 17.40 | 0 | 0 | 3 | 3 |\n| Merc 450SL | 17.3 | 8 | 275.8 | 180 | 3.07 | 3.730 | 17.60 | 0 | 0 | 3 | 3 |\n| Merc 450SLC | 15.2 | 8 | 275.8 | 180 | 3.07 | 3.780 | 18.00 | 0 | 0 | 3 | 3 |\n| Cadillac Fleetwood | 10.4 | 8 | 472.0 | 205 | 2.93 | 5.250 | 17.98 | 0 | 0 | 3 | 4 |\n| Lincoln Continental | 10.4 | 8 | 460.0 | 215 | 3.00 | 5.424 | 17.82 | 0 | 0 | 3 | 4 |\n| Chrysler Imperial | 14.7 | 8 | 440.0 | 230 | 3.23 | 5.345 | 17.42 | 0 | 0 | 3 | 4 |\n| Fiat 128 | 32.4 | 4 |  78.7 |  66 | 4.08 | 2.200 | 19.47 | 1 | 1 | 4 | 1 |\n| Honda Civic | 30.4 | 4 |  75.7 |  52 | 4.93 | 1.615 | 18.52 | 1 | 1 | 4 | 2 |\n| Toyota Corolla | 33.9 | 4 |  71.1 |  65 | 4.22 | 1.835 | 19.90 | 1 | 1 | 4 | 1 |\n| Toyota Corona | 21.5 | 4 | 120.1 |  97 | 3.70 | 2.465 | 20.01 | 1 | 0 | 3 | 1 |\n| Dodge Challenger | 15.5 | 8 | 318.0 | 150 | 2.76 | 3.520 | 16.87 | 0 | 0 | 3 | 2 |\n| AMC Javelin | 15.2 | 8 | 304.0 | 150 | 3.15 | 3.435 | 17.30 | 0 | 0 | 3 | 2 |\n| Camaro Z28 | 13.3 | 8 | 350.0 | 245 | 3.73 | 3.840 | 15.41 | 0 | 0 | 3 | 4 |\n| Pontiac Firebird | 19.2 | 8 | 400.0 | 175 | 3.08 | 3.845 | 17.05 | 0 | 0 | 3 | 2 |\n| Fiat X1-9 | 27.3 | 4 |  79.0 |  66 | 4.08 | 1.935 | 18.90 | 1 | 1 | 4 | 1 |\n| Porsche 914-2 | 26.0 | 4 | 120.3 |  91 | 4.43 | 2.140 | 16.70 | 0 | 1 | 5 | 2 |\n| Lotus Europa | 30.4 | 4 |  95.1 | 113 | 3.77 | 1.513 | 16.90 | 1 | 1 | 5 | 2 |\n| Ford Pantera L | 15.8 | 8 | 351.0 | 264 | 4.22 | 3.170 | 14.50 | 0 | 1 | 5 | 4 |\n| Ferrari Dino | 19.7 | 6 | 145.0 | 175 | 3.62 | 2.770 | 15.50 | 0 | 1 | 5 | 6 |\n| Maserati Bora | 15.0 | 8 | 301.0 | 335 | 3.54 | 3.570 | 14.60 | 0 | 1 | 5 | 8 |\n| Volvo 142E | 21.4 | 4 | 121.0 | 109 | 4.11 | 2.780 | 18.60 | 1 | 1 | 4 | 2 |\n\n",
            "text/latex": "A data.frame: 32 × 11\n\\begin{tabular}{r|lllllllllll}\n  & mpg & cyl & disp & hp & drat & wt & qsec & vs & am & gear & carb\\\\\n  & <dbl> & <dbl> & <dbl> & <dbl> & <dbl> & <dbl> & <dbl> & <dbl> & <dbl> & <dbl> & <dbl>\\\\\n\\hline\n\tMazda RX4 & 21.0 & 6 & 160.0 & 110 & 3.90 & 2.620 & 16.46 & 0 & 1 & 4 & 4\\\\\n\tMazda RX4 Wag & 21.0 & 6 & 160.0 & 110 & 3.90 & 2.875 & 17.02 & 0 & 1 & 4 & 4\\\\\n\tDatsun 710 & 22.8 & 4 & 108.0 &  93 & 3.85 & 2.320 & 18.61 & 1 & 1 & 4 & 1\\\\\n\tHornet 4 Drive & 21.4 & 6 & 258.0 & 110 & 3.08 & 3.215 & 19.44 & 1 & 0 & 3 & 1\\\\\n\tHornet Sportabout & 18.7 & 8 & 360.0 & 175 & 3.15 & 3.440 & 17.02 & 0 & 0 & 3 & 2\\\\\n\tValiant & 18.1 & 6 & 225.0 & 105 & 2.76 & 3.460 & 20.22 & 1 & 0 & 3 & 1\\\\\n\tDuster 360 & 14.3 & 8 & 360.0 & 245 & 3.21 & 3.570 & 15.84 & 0 & 0 & 3 & 4\\\\\n\tMerc 240D & 24.4 & 4 & 146.7 &  62 & 3.69 & 3.190 & 20.00 & 1 & 0 & 4 & 2\\\\\n\tMerc 230 & 22.8 & 4 & 140.8 &  95 & 3.92 & 3.150 & 22.90 & 1 & 0 & 4 & 2\\\\\n\tMerc 280 & 19.2 & 6 & 167.6 & 123 & 3.92 & 3.440 & 18.30 & 1 & 0 & 4 & 4\\\\\n\tMerc 280C & 17.8 & 6 & 167.6 & 123 & 3.92 & 3.440 & 18.90 & 1 & 0 & 4 & 4\\\\\n\tMerc 450SE & 16.4 & 8 & 275.8 & 180 & 3.07 & 4.070 & 17.40 & 0 & 0 & 3 & 3\\\\\n\tMerc 450SL & 17.3 & 8 & 275.8 & 180 & 3.07 & 3.730 & 17.60 & 0 & 0 & 3 & 3\\\\\n\tMerc 450SLC & 15.2 & 8 & 275.8 & 180 & 3.07 & 3.780 & 18.00 & 0 & 0 & 3 & 3\\\\\n\tCadillac Fleetwood & 10.4 & 8 & 472.0 & 205 & 2.93 & 5.250 & 17.98 & 0 & 0 & 3 & 4\\\\\n\tLincoln Continental & 10.4 & 8 & 460.0 & 215 & 3.00 & 5.424 & 17.82 & 0 & 0 & 3 & 4\\\\\n\tChrysler Imperial & 14.7 & 8 & 440.0 & 230 & 3.23 & 5.345 & 17.42 & 0 & 0 & 3 & 4\\\\\n\tFiat 128 & 32.4 & 4 &  78.7 &  66 & 4.08 & 2.200 & 19.47 & 1 & 1 & 4 & 1\\\\\n\tHonda Civic & 30.4 & 4 &  75.7 &  52 & 4.93 & 1.615 & 18.52 & 1 & 1 & 4 & 2\\\\\n\tToyota Corolla & 33.9 & 4 &  71.1 &  65 & 4.22 & 1.835 & 19.90 & 1 & 1 & 4 & 1\\\\\n\tToyota Corona & 21.5 & 4 & 120.1 &  97 & 3.70 & 2.465 & 20.01 & 1 & 0 & 3 & 1\\\\\n\tDodge Challenger & 15.5 & 8 & 318.0 & 150 & 2.76 & 3.520 & 16.87 & 0 & 0 & 3 & 2\\\\\n\tAMC Javelin & 15.2 & 8 & 304.0 & 150 & 3.15 & 3.435 & 17.30 & 0 & 0 & 3 & 2\\\\\n\tCamaro Z28 & 13.3 & 8 & 350.0 & 245 & 3.73 & 3.840 & 15.41 & 0 & 0 & 3 & 4\\\\\n\tPontiac Firebird & 19.2 & 8 & 400.0 & 175 & 3.08 & 3.845 & 17.05 & 0 & 0 & 3 & 2\\\\\n\tFiat X1-9 & 27.3 & 4 &  79.0 &  66 & 4.08 & 1.935 & 18.90 & 1 & 1 & 4 & 1\\\\\n\tPorsche 914-2 & 26.0 & 4 & 120.3 &  91 & 4.43 & 2.140 & 16.70 & 0 & 1 & 5 & 2\\\\\n\tLotus Europa & 30.4 & 4 &  95.1 & 113 & 3.77 & 1.513 & 16.90 & 1 & 1 & 5 & 2\\\\\n\tFord Pantera L & 15.8 & 8 & 351.0 & 264 & 4.22 & 3.170 & 14.50 & 0 & 1 & 5 & 4\\\\\n\tFerrari Dino & 19.7 & 6 & 145.0 & 175 & 3.62 & 2.770 & 15.50 & 0 & 1 & 5 & 6\\\\\n\tMaserati Bora & 15.0 & 8 & 301.0 & 335 & 3.54 & 3.570 & 14.60 & 0 & 1 & 5 & 8\\\\\n\tVolvo 142E & 21.4 & 4 & 121.0 & 109 & 4.11 & 2.780 & 18.60 & 1 & 1 & 4 & 2\\\\\n\\end{tabular}\n"
          },
          "metadata": {}
        },
        {
          "output_type": "display_data",
          "data": {
            "text/html": [
              "'data.frame'"
            ],
            "text/markdown": "'data.frame'",
            "text/latex": "'data.frame'",
            "text/plain": [
              "[1] \"data.frame\""
            ]
          },
          "metadata": {}
        }
      ]
    },
    {
      "cell_type": "markdown",
      "source": [
        "Note that `data.frames` are actually composed of column vectors of equal length, which we refer to as \"variables.\" We can use another special operator (`$`) in order to select one of the variables from a dataset and see this more clearly:"
      ],
      "metadata": {
        "id": "TsqEm92LV6bC"
      }
    },
    {
      "cell_type": "code",
      "source": [
        "mtcars$mpg\n",
        "class(mtcars$mpg)\n",
        "mtcars$mpg^2\n",
        "weird_function(mtcars$mpg, 2)"
      ],
      "metadata": {
        "colab": {
          "base_uri": "https://localhost:8080/",
          "height": 121
        },
        "id": "1jqYysZAWAac",
        "outputId": "f7cae364-26b0-415d-e2ea-c17730d709a0"
      },
      "execution_count": null,
      "outputs": [
        {
          "output_type": "display_data",
          "data": {
            "text/html": [
              "<style>\n",
              ".list-inline {list-style: none; margin:0; padding: 0}\n",
              ".list-inline>li {display: inline-block}\n",
              ".list-inline>li:not(:last-child)::after {content: \"\\00b7\"; padding: 0 .5ex}\n",
              "</style>\n",
              "<ol class=list-inline><li>21</li><li>21</li><li>22.8</li><li>21.4</li><li>18.7</li><li>18.1</li><li>14.3</li><li>24.4</li><li>22.8</li><li>19.2</li><li>17.8</li><li>16.4</li><li>17.3</li><li>15.2</li><li>10.4</li><li>10.4</li><li>14.7</li><li>32.4</li><li>30.4</li><li>33.9</li><li>21.5</li><li>15.5</li><li>15.2</li><li>13.3</li><li>19.2</li><li>27.3</li><li>26</li><li>30.4</li><li>15.8</li><li>19.7</li><li>15</li><li>21.4</li></ol>\n"
            ],
            "text/markdown": "1. 21\n2. 21\n3. 22.8\n4. 21.4\n5. 18.7\n6. 18.1\n7. 14.3\n8. 24.4\n9. 22.8\n10. 19.2\n11. 17.8\n12. 16.4\n13. 17.3\n14. 15.2\n15. 10.4\n16. 10.4\n17. 14.7\n18. 32.4\n19. 30.4\n20. 33.9\n21. 21.5\n22. 15.5\n23. 15.2\n24. 13.3\n25. 19.2\n26. 27.3\n27. 26\n28. 30.4\n29. 15.8\n30. 19.7\n31. 15\n32. 21.4\n\n\n",
            "text/latex": "\\begin{enumerate*}\n\\item 21\n\\item 21\n\\item 22.8\n\\item 21.4\n\\item 18.7\n\\item 18.1\n\\item 14.3\n\\item 24.4\n\\item 22.8\n\\item 19.2\n\\item 17.8\n\\item 16.4\n\\item 17.3\n\\item 15.2\n\\item 10.4\n\\item 10.4\n\\item 14.7\n\\item 32.4\n\\item 30.4\n\\item 33.9\n\\item 21.5\n\\item 15.5\n\\item 15.2\n\\item 13.3\n\\item 19.2\n\\item 27.3\n\\item 26\n\\item 30.4\n\\item 15.8\n\\item 19.7\n\\item 15\n\\item 21.4\n\\end{enumerate*}\n",
            "text/plain": [
              " [1] 21.0 21.0 22.8 21.4 18.7 18.1 14.3 24.4 22.8 19.2 17.8 16.4 17.3 15.2 10.4\n",
              "[16] 10.4 14.7 32.4 30.4 33.9 21.5 15.5 15.2 13.3 19.2 27.3 26.0 30.4 15.8 19.7\n",
              "[31] 15.0 21.4"
            ]
          },
          "metadata": {}
        },
        {
          "output_type": "display_data",
          "data": {
            "text/html": [
              "'numeric'"
            ],
            "text/markdown": "'numeric'",
            "text/latex": "'numeric'",
            "text/plain": [
              "[1] \"numeric\""
            ]
          },
          "metadata": {}
        },
        {
          "output_type": "display_data",
          "data": {
            "text/html": [
              "<style>\n",
              ".list-inline {list-style: none; margin:0; padding: 0}\n",
              ".list-inline>li {display: inline-block}\n",
              ".list-inline>li:not(:last-child)::after {content: \"\\00b7\"; padding: 0 .5ex}\n",
              "</style>\n",
              "<ol class=list-inline><li>441</li><li>441</li><li>519.84</li><li>457.96</li><li>349.69</li><li>327.61</li><li>204.49</li><li>595.36</li><li>519.84</li><li>368.64</li><li>316.84</li><li>268.96</li><li>299.29</li><li>231.04</li><li>108.16</li><li>108.16</li><li>216.09</li><li>1049.76</li><li>924.16</li><li>1149.21</li><li>462.25</li><li>240.25</li><li>231.04</li><li>176.89</li><li>368.64</li><li>745.29</li><li>676</li><li>924.16</li><li>249.64</li><li>388.09</li><li>225</li><li>457.96</li></ol>\n"
            ],
            "text/markdown": "1. 441\n2. 441\n3. 519.84\n4. 457.96\n5. 349.69\n6. 327.61\n7. 204.49\n8. 595.36\n9. 519.84\n10. 368.64\n11. 316.84\n12. 268.96\n13. 299.29\n14. 231.04\n15. 108.16\n16. 108.16\n17. 216.09\n18. 1049.76\n19. 924.16\n20. 1149.21\n21. 462.25\n22. 240.25\n23. 231.04\n24. 176.89\n25. 368.64\n26. 745.29\n27. 676\n28. 924.16\n29. 249.64\n30. 388.09\n31. 225\n32. 457.96\n\n\n",
            "text/latex": "\\begin{enumerate*}\n\\item 441\n\\item 441\n\\item 519.84\n\\item 457.96\n\\item 349.69\n\\item 327.61\n\\item 204.49\n\\item 595.36\n\\item 519.84\n\\item 368.64\n\\item 316.84\n\\item 268.96\n\\item 299.29\n\\item 231.04\n\\item 108.16\n\\item 108.16\n\\item 216.09\n\\item 1049.76\n\\item 924.16\n\\item 1149.21\n\\item 462.25\n\\item 240.25\n\\item 231.04\n\\item 176.89\n\\item 368.64\n\\item 745.29\n\\item 676\n\\item 924.16\n\\item 249.64\n\\item 388.09\n\\item 225\n\\item 457.96\n\\end{enumerate*}\n",
            "text/plain": [
              " [1]  441.00  441.00  519.84  457.96  349.69  327.61  204.49  595.36  519.84\n",
              "[10]  368.64  316.84  268.96  299.29  231.04  108.16  108.16  216.09 1049.76\n",
              "[19]  924.16 1149.21  462.25  240.25  231.04  176.89  368.64  745.29  676.00\n",
              "[28]  924.16  249.64  388.09  225.00  457.96"
            ]
          },
          "metadata": {}
        },
        {
          "output_type": "stream",
          "name": "stdout",
          "text": [
            "14042.31 :~)"
          ]
        }
      ]
    },
    {
      "cell_type": "markdown",
      "source": [
        " We can also use the `$` operator to add new variables to a dataset:"
      ],
      "metadata": {
        "id": "wkv67kBIWXBc"
      }
    },
    {
      "cell_type": "code",
      "source": [
        "mtcars$mpg_squared <- mtcars$mpg^2\n",
        "mtcars$is_it_a_car <- \"Yes, it's a car.\"\n",
        "View(mtcars)"
      ],
      "metadata": {
        "colab": {
          "base_uri": "https://localhost:8080/",
          "height": 1000
        },
        "id": "rfbV25KTWU0h",
        "outputId": "293cfb2e-312c-4977-b51b-9355256d03e6"
      },
      "execution_count": null,
      "outputs": [
        {
          "output_type": "display_data",
          "data": {
            "text/plain": [
              "                    mpg  cyl disp  hp  drat wt    qsec  vs am gear carb\n",
              "Mazda RX4           21.0 6   160.0 110 3.90 2.620 16.46 0  1  4    4   \n",
              "Mazda RX4 Wag       21.0 6   160.0 110 3.90 2.875 17.02 0  1  4    4   \n",
              "Datsun 710          22.8 4   108.0  93 3.85 2.320 18.61 1  1  4    1   \n",
              "Hornet 4 Drive      21.4 6   258.0 110 3.08 3.215 19.44 1  0  3    1   \n",
              "Hornet Sportabout   18.7 8   360.0 175 3.15 3.440 17.02 0  0  3    2   \n",
              "Valiant             18.1 6   225.0 105 2.76 3.460 20.22 1  0  3    1   \n",
              "Duster 360          14.3 8   360.0 245 3.21 3.570 15.84 0  0  3    4   \n",
              "Merc 240D           24.4 4   146.7  62 3.69 3.190 20.00 1  0  4    2   \n",
              "Merc 230            22.8 4   140.8  95 3.92 3.150 22.90 1  0  4    2   \n",
              "Merc 280            19.2 6   167.6 123 3.92 3.440 18.30 1  0  4    4   \n",
              "Merc 280C           17.8 6   167.6 123 3.92 3.440 18.90 1  0  4    4   \n",
              "Merc 450SE          16.4 8   275.8 180 3.07 4.070 17.40 0  0  3    3   \n",
              "Merc 450SL          17.3 8   275.8 180 3.07 3.730 17.60 0  0  3    3   \n",
              "Merc 450SLC         15.2 8   275.8 180 3.07 3.780 18.00 0  0  3    3   \n",
              "Cadillac Fleetwood  10.4 8   472.0 205 2.93 5.250 17.98 0  0  3    4   \n",
              "Lincoln Continental 10.4 8   460.0 215 3.00 5.424 17.82 0  0  3    4   \n",
              "Chrysler Imperial   14.7 8   440.0 230 3.23 5.345 17.42 0  0  3    4   \n",
              "Fiat 128            32.4 4    78.7  66 4.08 2.200 19.47 1  1  4    1   \n",
              "Honda Civic         30.4 4    75.7  52 4.93 1.615 18.52 1  1  4    2   \n",
              "Toyota Corolla      33.9 4    71.1  65 4.22 1.835 19.90 1  1  4    1   \n",
              "Toyota Corona       21.5 4   120.1  97 3.70 2.465 20.01 1  0  3    1   \n",
              "Dodge Challenger    15.5 8   318.0 150 2.76 3.520 16.87 0  0  3    2   \n",
              "AMC Javelin         15.2 8   304.0 150 3.15 3.435 17.30 0  0  3    2   \n",
              "Camaro Z28          13.3 8   350.0 245 3.73 3.840 15.41 0  0  3    4   \n",
              "Pontiac Firebird    19.2 8   400.0 175 3.08 3.845 17.05 0  0  3    2   \n",
              "Fiat X1-9           27.3 4    79.0  66 4.08 1.935 18.90 1  1  4    1   \n",
              "Porsche 914-2       26.0 4   120.3  91 4.43 2.140 16.70 0  1  5    2   \n",
              "Lotus Europa        30.4 4    95.1 113 3.77 1.513 16.90 1  1  5    2   \n",
              "Ford Pantera L      15.8 8   351.0 264 4.22 3.170 14.50 0  1  5    4   \n",
              "Ferrari Dino        19.7 6   145.0 175 3.62 2.770 15.50 0  1  5    6   \n",
              "Maserati Bora       15.0 8   301.0 335 3.54 3.570 14.60 0  1  5    8   \n",
              "Volvo 142E          21.4 4   121.0 109 4.11 2.780 18.60 1  1  4    2   \n",
              "                    mpg_squared is_it_a_car     \n",
              "Mazda RX4            441.00     Yes, it's a car.\n",
              "Mazda RX4 Wag        441.00     Yes, it's a car.\n",
              "Datsun 710           519.84     Yes, it's a car.\n",
              "Hornet 4 Drive       457.96     Yes, it's a car.\n",
              "Hornet Sportabout    349.69     Yes, it's a car.\n",
              "Valiant              327.61     Yes, it's a car.\n",
              "Duster 360           204.49     Yes, it's a car.\n",
              "Merc 240D            595.36     Yes, it's a car.\n",
              "Merc 230             519.84     Yes, it's a car.\n",
              "Merc 280             368.64     Yes, it's a car.\n",
              "Merc 280C            316.84     Yes, it's a car.\n",
              "Merc 450SE           268.96     Yes, it's a car.\n",
              "Merc 450SL           299.29     Yes, it's a car.\n",
              "Merc 450SLC          231.04     Yes, it's a car.\n",
              "Cadillac Fleetwood   108.16     Yes, it's a car.\n",
              "Lincoln Continental  108.16     Yes, it's a car.\n",
              "Chrysler Imperial    216.09     Yes, it's a car.\n",
              "Fiat 128            1049.76     Yes, it's a car.\n",
              "Honda Civic          924.16     Yes, it's a car.\n",
              "Toyota Corolla      1149.21     Yes, it's a car.\n",
              "Toyota Corona        462.25     Yes, it's a car.\n",
              "Dodge Challenger     240.25     Yes, it's a car.\n",
              "AMC Javelin          231.04     Yes, it's a car.\n",
              "Camaro Z28           176.89     Yes, it's a car.\n",
              "Pontiac Firebird     368.64     Yes, it's a car.\n",
              "Fiat X1-9            745.29     Yes, it's a car.\n",
              "Porsche 914-2        676.00     Yes, it's a car.\n",
              "Lotus Europa         924.16     Yes, it's a car.\n",
              "Ford Pantera L       249.64     Yes, it's a car.\n",
              "Ferrari Dino         388.09     Yes, it's a car.\n",
              "Maserati Bora        225.00     Yes, it's a car.\n",
              "Volvo 142E           457.96     Yes, it's a car."
            ],
            "text/html": [
              "<table class=\"dataframe\">\n",
              "<caption>A data.frame: 32 × 13</caption>\n",
              "<thead>\n",
              "\t<tr><th></th><th scope=col>mpg</th><th scope=col>cyl</th><th scope=col>disp</th><th scope=col>hp</th><th scope=col>drat</th><th scope=col>wt</th><th scope=col>qsec</th><th scope=col>vs</th><th scope=col>am</th><th scope=col>gear</th><th scope=col>carb</th><th scope=col>mpg_squared</th><th scope=col>is_it_a_car</th></tr>\n",
              "\t<tr><th></th><th scope=col>&lt;dbl&gt;</th><th scope=col>&lt;dbl&gt;</th><th scope=col>&lt;dbl&gt;</th><th scope=col>&lt;dbl&gt;</th><th scope=col>&lt;dbl&gt;</th><th scope=col>&lt;dbl&gt;</th><th scope=col>&lt;dbl&gt;</th><th scope=col>&lt;dbl&gt;</th><th scope=col>&lt;dbl&gt;</th><th scope=col>&lt;dbl&gt;</th><th scope=col>&lt;dbl&gt;</th><th scope=col>&lt;dbl&gt;</th><th scope=col>&lt;chr&gt;</th></tr>\n",
              "</thead>\n",
              "<tbody>\n",
              "\t<tr><th scope=row>Mazda RX4</th><td>21.0</td><td>6</td><td>160.0</td><td>110</td><td>3.90</td><td>2.620</td><td>16.46</td><td>0</td><td>1</td><td>4</td><td>4</td><td> 441.00</td><td>Yes, it's a car.</td></tr>\n",
              "\t<tr><th scope=row>Mazda RX4 Wag</th><td>21.0</td><td>6</td><td>160.0</td><td>110</td><td>3.90</td><td>2.875</td><td>17.02</td><td>0</td><td>1</td><td>4</td><td>4</td><td> 441.00</td><td>Yes, it's a car.</td></tr>\n",
              "\t<tr><th scope=row>Datsun 710</th><td>22.8</td><td>4</td><td>108.0</td><td> 93</td><td>3.85</td><td>2.320</td><td>18.61</td><td>1</td><td>1</td><td>4</td><td>1</td><td> 519.84</td><td>Yes, it's a car.</td></tr>\n",
              "\t<tr><th scope=row>Hornet 4 Drive</th><td>21.4</td><td>6</td><td>258.0</td><td>110</td><td>3.08</td><td>3.215</td><td>19.44</td><td>1</td><td>0</td><td>3</td><td>1</td><td> 457.96</td><td>Yes, it's a car.</td></tr>\n",
              "\t<tr><th scope=row>Hornet Sportabout</th><td>18.7</td><td>8</td><td>360.0</td><td>175</td><td>3.15</td><td>3.440</td><td>17.02</td><td>0</td><td>0</td><td>3</td><td>2</td><td> 349.69</td><td>Yes, it's a car.</td></tr>\n",
              "\t<tr><th scope=row>Valiant</th><td>18.1</td><td>6</td><td>225.0</td><td>105</td><td>2.76</td><td>3.460</td><td>20.22</td><td>1</td><td>0</td><td>3</td><td>1</td><td> 327.61</td><td>Yes, it's a car.</td></tr>\n",
              "\t<tr><th scope=row>Duster 360</th><td>14.3</td><td>8</td><td>360.0</td><td>245</td><td>3.21</td><td>3.570</td><td>15.84</td><td>0</td><td>0</td><td>3</td><td>4</td><td> 204.49</td><td>Yes, it's a car.</td></tr>\n",
              "\t<tr><th scope=row>Merc 240D</th><td>24.4</td><td>4</td><td>146.7</td><td> 62</td><td>3.69</td><td>3.190</td><td>20.00</td><td>1</td><td>0</td><td>4</td><td>2</td><td> 595.36</td><td>Yes, it's a car.</td></tr>\n",
              "\t<tr><th scope=row>Merc 230</th><td>22.8</td><td>4</td><td>140.8</td><td> 95</td><td>3.92</td><td>3.150</td><td>22.90</td><td>1</td><td>0</td><td>4</td><td>2</td><td> 519.84</td><td>Yes, it's a car.</td></tr>\n",
              "\t<tr><th scope=row>Merc 280</th><td>19.2</td><td>6</td><td>167.6</td><td>123</td><td>3.92</td><td>3.440</td><td>18.30</td><td>1</td><td>0</td><td>4</td><td>4</td><td> 368.64</td><td>Yes, it's a car.</td></tr>\n",
              "\t<tr><th scope=row>Merc 280C</th><td>17.8</td><td>6</td><td>167.6</td><td>123</td><td>3.92</td><td>3.440</td><td>18.90</td><td>1</td><td>0</td><td>4</td><td>4</td><td> 316.84</td><td>Yes, it's a car.</td></tr>\n",
              "\t<tr><th scope=row>Merc 450SE</th><td>16.4</td><td>8</td><td>275.8</td><td>180</td><td>3.07</td><td>4.070</td><td>17.40</td><td>0</td><td>0</td><td>3</td><td>3</td><td> 268.96</td><td>Yes, it's a car.</td></tr>\n",
              "\t<tr><th scope=row>Merc 450SL</th><td>17.3</td><td>8</td><td>275.8</td><td>180</td><td>3.07</td><td>3.730</td><td>17.60</td><td>0</td><td>0</td><td>3</td><td>3</td><td> 299.29</td><td>Yes, it's a car.</td></tr>\n",
              "\t<tr><th scope=row>Merc 450SLC</th><td>15.2</td><td>8</td><td>275.8</td><td>180</td><td>3.07</td><td>3.780</td><td>18.00</td><td>0</td><td>0</td><td>3</td><td>3</td><td> 231.04</td><td>Yes, it's a car.</td></tr>\n",
              "\t<tr><th scope=row>Cadillac Fleetwood</th><td>10.4</td><td>8</td><td>472.0</td><td>205</td><td>2.93</td><td>5.250</td><td>17.98</td><td>0</td><td>0</td><td>3</td><td>4</td><td> 108.16</td><td>Yes, it's a car.</td></tr>\n",
              "\t<tr><th scope=row>Lincoln Continental</th><td>10.4</td><td>8</td><td>460.0</td><td>215</td><td>3.00</td><td>5.424</td><td>17.82</td><td>0</td><td>0</td><td>3</td><td>4</td><td> 108.16</td><td>Yes, it's a car.</td></tr>\n",
              "\t<tr><th scope=row>Chrysler Imperial</th><td>14.7</td><td>8</td><td>440.0</td><td>230</td><td>3.23</td><td>5.345</td><td>17.42</td><td>0</td><td>0</td><td>3</td><td>4</td><td> 216.09</td><td>Yes, it's a car.</td></tr>\n",
              "\t<tr><th scope=row>Fiat 128</th><td>32.4</td><td>4</td><td> 78.7</td><td> 66</td><td>4.08</td><td>2.200</td><td>19.47</td><td>1</td><td>1</td><td>4</td><td>1</td><td>1049.76</td><td>Yes, it's a car.</td></tr>\n",
              "\t<tr><th scope=row>Honda Civic</th><td>30.4</td><td>4</td><td> 75.7</td><td> 52</td><td>4.93</td><td>1.615</td><td>18.52</td><td>1</td><td>1</td><td>4</td><td>2</td><td> 924.16</td><td>Yes, it's a car.</td></tr>\n",
              "\t<tr><th scope=row>Toyota Corolla</th><td>33.9</td><td>4</td><td> 71.1</td><td> 65</td><td>4.22</td><td>1.835</td><td>19.90</td><td>1</td><td>1</td><td>4</td><td>1</td><td>1149.21</td><td>Yes, it's a car.</td></tr>\n",
              "\t<tr><th scope=row>Toyota Corona</th><td>21.5</td><td>4</td><td>120.1</td><td> 97</td><td>3.70</td><td>2.465</td><td>20.01</td><td>1</td><td>0</td><td>3</td><td>1</td><td> 462.25</td><td>Yes, it's a car.</td></tr>\n",
              "\t<tr><th scope=row>Dodge Challenger</th><td>15.5</td><td>8</td><td>318.0</td><td>150</td><td>2.76</td><td>3.520</td><td>16.87</td><td>0</td><td>0</td><td>3</td><td>2</td><td> 240.25</td><td>Yes, it's a car.</td></tr>\n",
              "\t<tr><th scope=row>AMC Javelin</th><td>15.2</td><td>8</td><td>304.0</td><td>150</td><td>3.15</td><td>3.435</td><td>17.30</td><td>0</td><td>0</td><td>3</td><td>2</td><td> 231.04</td><td>Yes, it's a car.</td></tr>\n",
              "\t<tr><th scope=row>Camaro Z28</th><td>13.3</td><td>8</td><td>350.0</td><td>245</td><td>3.73</td><td>3.840</td><td>15.41</td><td>0</td><td>0</td><td>3</td><td>4</td><td> 176.89</td><td>Yes, it's a car.</td></tr>\n",
              "\t<tr><th scope=row>Pontiac Firebird</th><td>19.2</td><td>8</td><td>400.0</td><td>175</td><td>3.08</td><td>3.845</td><td>17.05</td><td>0</td><td>0</td><td>3</td><td>2</td><td> 368.64</td><td>Yes, it's a car.</td></tr>\n",
              "\t<tr><th scope=row>Fiat X1-9</th><td>27.3</td><td>4</td><td> 79.0</td><td> 66</td><td>4.08</td><td>1.935</td><td>18.90</td><td>1</td><td>1</td><td>4</td><td>1</td><td> 745.29</td><td>Yes, it's a car.</td></tr>\n",
              "\t<tr><th scope=row>Porsche 914-2</th><td>26.0</td><td>4</td><td>120.3</td><td> 91</td><td>4.43</td><td>2.140</td><td>16.70</td><td>0</td><td>1</td><td>5</td><td>2</td><td> 676.00</td><td>Yes, it's a car.</td></tr>\n",
              "\t<tr><th scope=row>Lotus Europa</th><td>30.4</td><td>4</td><td> 95.1</td><td>113</td><td>3.77</td><td>1.513</td><td>16.90</td><td>1</td><td>1</td><td>5</td><td>2</td><td> 924.16</td><td>Yes, it's a car.</td></tr>\n",
              "\t<tr><th scope=row>Ford Pantera L</th><td>15.8</td><td>8</td><td>351.0</td><td>264</td><td>4.22</td><td>3.170</td><td>14.50</td><td>0</td><td>1</td><td>5</td><td>4</td><td> 249.64</td><td>Yes, it's a car.</td></tr>\n",
              "\t<tr><th scope=row>Ferrari Dino</th><td>19.7</td><td>6</td><td>145.0</td><td>175</td><td>3.62</td><td>2.770</td><td>15.50</td><td>0</td><td>1</td><td>5</td><td>6</td><td> 388.09</td><td>Yes, it's a car.</td></tr>\n",
              "\t<tr><th scope=row>Maserati Bora</th><td>15.0</td><td>8</td><td>301.0</td><td>335</td><td>3.54</td><td>3.570</td><td>14.60</td><td>0</td><td>1</td><td>5</td><td>8</td><td> 225.00</td><td>Yes, it's a car.</td></tr>\n",
              "\t<tr><th scope=row>Volvo 142E</th><td>21.4</td><td>4</td><td>121.0</td><td>109</td><td>4.11</td><td>2.780</td><td>18.60</td><td>1</td><td>1</td><td>4</td><td>2</td><td> 457.96</td><td>Yes, it's a car.</td></tr>\n",
              "</tbody>\n",
              "</table>\n"
            ],
            "text/markdown": "\nA data.frame: 32 × 13\n\n| <!--/--> | mpg &lt;dbl&gt; | cyl &lt;dbl&gt; | disp &lt;dbl&gt; | hp &lt;dbl&gt; | drat &lt;dbl&gt; | wt &lt;dbl&gt; | qsec &lt;dbl&gt; | vs &lt;dbl&gt; | am &lt;dbl&gt; | gear &lt;dbl&gt; | carb &lt;dbl&gt; | mpg_squared &lt;dbl&gt; | is_it_a_car &lt;chr&gt; |\n|---|---|---|---|---|---|---|---|---|---|---|---|---|---|\n| Mazda RX4 | 21.0 | 6 | 160.0 | 110 | 3.90 | 2.620 | 16.46 | 0 | 1 | 4 | 4 |  441.00 | Yes, it's a car. |\n| Mazda RX4 Wag | 21.0 | 6 | 160.0 | 110 | 3.90 | 2.875 | 17.02 | 0 | 1 | 4 | 4 |  441.00 | Yes, it's a car. |\n| Datsun 710 | 22.8 | 4 | 108.0 |  93 | 3.85 | 2.320 | 18.61 | 1 | 1 | 4 | 1 |  519.84 | Yes, it's a car. |\n| Hornet 4 Drive | 21.4 | 6 | 258.0 | 110 | 3.08 | 3.215 | 19.44 | 1 | 0 | 3 | 1 |  457.96 | Yes, it's a car. |\n| Hornet Sportabout | 18.7 | 8 | 360.0 | 175 | 3.15 | 3.440 | 17.02 | 0 | 0 | 3 | 2 |  349.69 | Yes, it's a car. |\n| Valiant | 18.1 | 6 | 225.0 | 105 | 2.76 | 3.460 | 20.22 | 1 | 0 | 3 | 1 |  327.61 | Yes, it's a car. |\n| Duster 360 | 14.3 | 8 | 360.0 | 245 | 3.21 | 3.570 | 15.84 | 0 | 0 | 3 | 4 |  204.49 | Yes, it's a car. |\n| Merc 240D | 24.4 | 4 | 146.7 |  62 | 3.69 | 3.190 | 20.00 | 1 | 0 | 4 | 2 |  595.36 | Yes, it's a car. |\n| Merc 230 | 22.8 | 4 | 140.8 |  95 | 3.92 | 3.150 | 22.90 | 1 | 0 | 4 | 2 |  519.84 | Yes, it's a car. |\n| Merc 280 | 19.2 | 6 | 167.6 | 123 | 3.92 | 3.440 | 18.30 | 1 | 0 | 4 | 4 |  368.64 | Yes, it's a car. |\n| Merc 280C | 17.8 | 6 | 167.6 | 123 | 3.92 | 3.440 | 18.90 | 1 | 0 | 4 | 4 |  316.84 | Yes, it's a car. |\n| Merc 450SE | 16.4 | 8 | 275.8 | 180 | 3.07 | 4.070 | 17.40 | 0 | 0 | 3 | 3 |  268.96 | Yes, it's a car. |\n| Merc 450SL | 17.3 | 8 | 275.8 | 180 | 3.07 | 3.730 | 17.60 | 0 | 0 | 3 | 3 |  299.29 | Yes, it's a car. |\n| Merc 450SLC | 15.2 | 8 | 275.8 | 180 | 3.07 | 3.780 | 18.00 | 0 | 0 | 3 | 3 |  231.04 | Yes, it's a car. |\n| Cadillac Fleetwood | 10.4 | 8 | 472.0 | 205 | 2.93 | 5.250 | 17.98 | 0 | 0 | 3 | 4 |  108.16 | Yes, it's a car. |\n| Lincoln Continental | 10.4 | 8 | 460.0 | 215 | 3.00 | 5.424 | 17.82 | 0 | 0 | 3 | 4 |  108.16 | Yes, it's a car. |\n| Chrysler Imperial | 14.7 | 8 | 440.0 | 230 | 3.23 | 5.345 | 17.42 | 0 | 0 | 3 | 4 |  216.09 | Yes, it's a car. |\n| Fiat 128 | 32.4 | 4 |  78.7 |  66 | 4.08 | 2.200 | 19.47 | 1 | 1 | 4 | 1 | 1049.76 | Yes, it's a car. |\n| Honda Civic | 30.4 | 4 |  75.7 |  52 | 4.93 | 1.615 | 18.52 | 1 | 1 | 4 | 2 |  924.16 | Yes, it's a car. |\n| Toyota Corolla | 33.9 | 4 |  71.1 |  65 | 4.22 | 1.835 | 19.90 | 1 | 1 | 4 | 1 | 1149.21 | Yes, it's a car. |\n| Toyota Corona | 21.5 | 4 | 120.1 |  97 | 3.70 | 2.465 | 20.01 | 1 | 0 | 3 | 1 |  462.25 | Yes, it's a car. |\n| Dodge Challenger | 15.5 | 8 | 318.0 | 150 | 2.76 | 3.520 | 16.87 | 0 | 0 | 3 | 2 |  240.25 | Yes, it's a car. |\n| AMC Javelin | 15.2 | 8 | 304.0 | 150 | 3.15 | 3.435 | 17.30 | 0 | 0 | 3 | 2 |  231.04 | Yes, it's a car. |\n| Camaro Z28 | 13.3 | 8 | 350.0 | 245 | 3.73 | 3.840 | 15.41 | 0 | 0 | 3 | 4 |  176.89 | Yes, it's a car. |\n| Pontiac Firebird | 19.2 | 8 | 400.0 | 175 | 3.08 | 3.845 | 17.05 | 0 | 0 | 3 | 2 |  368.64 | Yes, it's a car. |\n| Fiat X1-9 | 27.3 | 4 |  79.0 |  66 | 4.08 | 1.935 | 18.90 | 1 | 1 | 4 | 1 |  745.29 | Yes, it's a car. |\n| Porsche 914-2 | 26.0 | 4 | 120.3 |  91 | 4.43 | 2.140 | 16.70 | 0 | 1 | 5 | 2 |  676.00 | Yes, it's a car. |\n| Lotus Europa | 30.4 | 4 |  95.1 | 113 | 3.77 | 1.513 | 16.90 | 1 | 1 | 5 | 2 |  924.16 | Yes, it's a car. |\n| Ford Pantera L | 15.8 | 8 | 351.0 | 264 | 4.22 | 3.170 | 14.50 | 0 | 1 | 5 | 4 |  249.64 | Yes, it's a car. |\n| Ferrari Dino | 19.7 | 6 | 145.0 | 175 | 3.62 | 2.770 | 15.50 | 0 | 1 | 5 | 6 |  388.09 | Yes, it's a car. |\n| Maserati Bora | 15.0 | 8 | 301.0 | 335 | 3.54 | 3.570 | 14.60 | 0 | 1 | 5 | 8 |  225.00 | Yes, it's a car. |\n| Volvo 142E | 21.4 | 4 | 121.0 | 109 | 4.11 | 2.780 | 18.60 | 1 | 1 | 4 | 2 |  457.96 | Yes, it's a car. |\n\n",
            "text/latex": "A data.frame: 32 × 13\n\\begin{tabular}{r|lllllllllllll}\n  & mpg & cyl & disp & hp & drat & wt & qsec & vs & am & gear & carb & mpg\\_squared & is\\_it\\_a\\_car\\\\\n  & <dbl> & <dbl> & <dbl> & <dbl> & <dbl> & <dbl> & <dbl> & <dbl> & <dbl> & <dbl> & <dbl> & <dbl> & <chr>\\\\\n\\hline\n\tMazda RX4 & 21.0 & 6 & 160.0 & 110 & 3.90 & 2.620 & 16.46 & 0 & 1 & 4 & 4 &  441.00 & Yes, it's a car.\\\\\n\tMazda RX4 Wag & 21.0 & 6 & 160.0 & 110 & 3.90 & 2.875 & 17.02 & 0 & 1 & 4 & 4 &  441.00 & Yes, it's a car.\\\\\n\tDatsun 710 & 22.8 & 4 & 108.0 &  93 & 3.85 & 2.320 & 18.61 & 1 & 1 & 4 & 1 &  519.84 & Yes, it's a car.\\\\\n\tHornet 4 Drive & 21.4 & 6 & 258.0 & 110 & 3.08 & 3.215 & 19.44 & 1 & 0 & 3 & 1 &  457.96 & Yes, it's a car.\\\\\n\tHornet Sportabout & 18.7 & 8 & 360.0 & 175 & 3.15 & 3.440 & 17.02 & 0 & 0 & 3 & 2 &  349.69 & Yes, it's a car.\\\\\n\tValiant & 18.1 & 6 & 225.0 & 105 & 2.76 & 3.460 & 20.22 & 1 & 0 & 3 & 1 &  327.61 & Yes, it's a car.\\\\\n\tDuster 360 & 14.3 & 8 & 360.0 & 245 & 3.21 & 3.570 & 15.84 & 0 & 0 & 3 & 4 &  204.49 & Yes, it's a car.\\\\\n\tMerc 240D & 24.4 & 4 & 146.7 &  62 & 3.69 & 3.190 & 20.00 & 1 & 0 & 4 & 2 &  595.36 & Yes, it's a car.\\\\\n\tMerc 230 & 22.8 & 4 & 140.8 &  95 & 3.92 & 3.150 & 22.90 & 1 & 0 & 4 & 2 &  519.84 & Yes, it's a car.\\\\\n\tMerc 280 & 19.2 & 6 & 167.6 & 123 & 3.92 & 3.440 & 18.30 & 1 & 0 & 4 & 4 &  368.64 & Yes, it's a car.\\\\\n\tMerc 280C & 17.8 & 6 & 167.6 & 123 & 3.92 & 3.440 & 18.90 & 1 & 0 & 4 & 4 &  316.84 & Yes, it's a car.\\\\\n\tMerc 450SE & 16.4 & 8 & 275.8 & 180 & 3.07 & 4.070 & 17.40 & 0 & 0 & 3 & 3 &  268.96 & Yes, it's a car.\\\\\n\tMerc 450SL & 17.3 & 8 & 275.8 & 180 & 3.07 & 3.730 & 17.60 & 0 & 0 & 3 & 3 &  299.29 & Yes, it's a car.\\\\\n\tMerc 450SLC & 15.2 & 8 & 275.8 & 180 & 3.07 & 3.780 & 18.00 & 0 & 0 & 3 & 3 &  231.04 & Yes, it's a car.\\\\\n\tCadillac Fleetwood & 10.4 & 8 & 472.0 & 205 & 2.93 & 5.250 & 17.98 & 0 & 0 & 3 & 4 &  108.16 & Yes, it's a car.\\\\\n\tLincoln Continental & 10.4 & 8 & 460.0 & 215 & 3.00 & 5.424 & 17.82 & 0 & 0 & 3 & 4 &  108.16 & Yes, it's a car.\\\\\n\tChrysler Imperial & 14.7 & 8 & 440.0 & 230 & 3.23 & 5.345 & 17.42 & 0 & 0 & 3 & 4 &  216.09 & Yes, it's a car.\\\\\n\tFiat 128 & 32.4 & 4 &  78.7 &  66 & 4.08 & 2.200 & 19.47 & 1 & 1 & 4 & 1 & 1049.76 & Yes, it's a car.\\\\\n\tHonda Civic & 30.4 & 4 &  75.7 &  52 & 4.93 & 1.615 & 18.52 & 1 & 1 & 4 & 2 &  924.16 & Yes, it's a car.\\\\\n\tToyota Corolla & 33.9 & 4 &  71.1 &  65 & 4.22 & 1.835 & 19.90 & 1 & 1 & 4 & 1 & 1149.21 & Yes, it's a car.\\\\\n\tToyota Corona & 21.5 & 4 & 120.1 &  97 & 3.70 & 2.465 & 20.01 & 1 & 0 & 3 & 1 &  462.25 & Yes, it's a car.\\\\\n\tDodge Challenger & 15.5 & 8 & 318.0 & 150 & 2.76 & 3.520 & 16.87 & 0 & 0 & 3 & 2 &  240.25 & Yes, it's a car.\\\\\n\tAMC Javelin & 15.2 & 8 & 304.0 & 150 & 3.15 & 3.435 & 17.30 & 0 & 0 & 3 & 2 &  231.04 & Yes, it's a car.\\\\\n\tCamaro Z28 & 13.3 & 8 & 350.0 & 245 & 3.73 & 3.840 & 15.41 & 0 & 0 & 3 & 4 &  176.89 & Yes, it's a car.\\\\\n\tPontiac Firebird & 19.2 & 8 & 400.0 & 175 & 3.08 & 3.845 & 17.05 & 0 & 0 & 3 & 2 &  368.64 & Yes, it's a car.\\\\\n\tFiat X1-9 & 27.3 & 4 &  79.0 &  66 & 4.08 & 1.935 & 18.90 & 1 & 1 & 4 & 1 &  745.29 & Yes, it's a car.\\\\\n\tPorsche 914-2 & 26.0 & 4 & 120.3 &  91 & 4.43 & 2.140 & 16.70 & 0 & 1 & 5 & 2 &  676.00 & Yes, it's a car.\\\\\n\tLotus Europa & 30.4 & 4 &  95.1 & 113 & 3.77 & 1.513 & 16.90 & 1 & 1 & 5 & 2 &  924.16 & Yes, it's a car.\\\\\n\tFord Pantera L & 15.8 & 8 & 351.0 & 264 & 4.22 & 3.170 & 14.50 & 0 & 1 & 5 & 4 &  249.64 & Yes, it's a car.\\\\\n\tFerrari Dino & 19.7 & 6 & 145.0 & 175 & 3.62 & 2.770 & 15.50 & 0 & 1 & 5 & 6 &  388.09 & Yes, it's a car.\\\\\n\tMaserati Bora & 15.0 & 8 & 301.0 & 335 & 3.54 & 3.570 & 14.60 & 0 & 1 & 5 & 8 &  225.00 & Yes, it's a car.\\\\\n\tVolvo 142E & 21.4 & 4 & 121.0 & 109 & 4.11 & 2.780 & 18.60 & 1 & 1 & 4 & 2 &  457.96 & Yes, it's a car.\\\\\n\\end{tabular}\n"
          },
          "metadata": {}
        }
      ]
    },
    {
      "cell_type": "markdown",
      "source": [
        "The first step you should take whenever you're working with a new dataset is to look at the data. The `View()` function is a good start, but there's more we can do:"
      ],
      "metadata": {
        "id": "Wc7Bzi7EWnr7"
      }
    },
    {
      "cell_type": "code",
      "source": [
        "summary(mtcars)\n",
        "#install.packages(\"skimr\")\n",
        "library(skimr)\n",
        "skimr_summary <- skim(mtcars)\n",
        "View(skimr_summary)"
      ],
      "metadata": {
        "colab": {
          "base_uri": "https://localhost:8080/",
          "height": 1000
        },
        "id": "bJ303EvxWmEg",
        "outputId": "11ce45a3-409a-4d27-bb6e-28d35339d243"
      },
      "execution_count": null,
      "outputs": [
        {
          "output_type": "display_data",
          "data": {
            "text/plain": [
              "      mpg             cyl             disp             hp       \n",
              " Min.   :10.40   Min.   :4.000   Min.   : 71.1   Min.   : 52.0  \n",
              " 1st Qu.:15.43   1st Qu.:4.000   1st Qu.:120.8   1st Qu.: 96.5  \n",
              " Median :19.20   Median :6.000   Median :196.3   Median :123.0  \n",
              " Mean   :20.09   Mean   :6.188   Mean   :230.7   Mean   :146.7  \n",
              " 3rd Qu.:22.80   3rd Qu.:8.000   3rd Qu.:326.0   3rd Qu.:180.0  \n",
              " Max.   :33.90   Max.   :8.000   Max.   :472.0   Max.   :335.0  \n",
              "      drat             wt             qsec             vs        \n",
              " Min.   :2.760   Min.   :1.513   Min.   :14.50   Min.   :0.0000  \n",
              " 1st Qu.:3.080   1st Qu.:2.581   1st Qu.:16.89   1st Qu.:0.0000  \n",
              " Median :3.695   Median :3.325   Median :17.71   Median :0.0000  \n",
              " Mean   :3.597   Mean   :3.217   Mean   :17.85   Mean   :0.4375  \n",
              " 3rd Qu.:3.920   3rd Qu.:3.610   3rd Qu.:18.90   3rd Qu.:1.0000  \n",
              " Max.   :4.930   Max.   :5.424   Max.   :22.90   Max.   :1.0000  \n",
              "       am              gear            carb        mpg_squared    \n",
              " Min.   :0.0000   Min.   :3.000   Min.   :1.000   Min.   : 108.2  \n",
              " 1st Qu.:0.0000   1st Qu.:3.000   1st Qu.:2.000   1st Qu.: 237.9  \n",
              " Median :0.0000   Median :4.000   Median :2.000   Median : 368.6  \n",
              " Mean   :0.4062   Mean   :3.688   Mean   :2.812   Mean   : 438.8  \n",
              " 3rd Qu.:1.0000   3rd Qu.:4.000   3rd Qu.:4.000   3rd Qu.: 519.8  \n",
              " Max.   :1.0000   Max.   :5.000   Max.   :8.000   Max.   :1149.2  \n",
              " is_it_a_car       \n",
              " Length:32         \n",
              " Class :character  \n",
              " Mode  :character  \n",
              "                   \n",
              "                   \n",
              "                   "
            ]
          },
          "metadata": {}
        },
        {
          "output_type": "stream",
          "name": "stdout",
          "text": [
            "── Data Summary ────────────────────────\n",
            "                           Values\n",
            "Name                       mtcars\n",
            "Number of rows             32    \n",
            "Number of columns          13    \n",
            "_______________________          \n",
            "Column type frequency:           \n",
            "  character                1     \n",
            "  numeric                  12    \n",
            "________________________         \n",
            "Group variables            None  \n",
            "\n",
            "── Variable type: character ────────────────────────────────────────────────────\n",
            "  skim_variable n_missing complete_rate min max empty n_unique whitespace\n",
            "\u001b[90m1\u001b[39m is_it_a_car           0             1  16  16     0        1          0\n",
            "\n",
            "── Variable type: numeric ──────────────────────────────────────────────────────\n",
            "   skim_variable n_missing complete_rate    mean      sd     p0    p25    p50\n",
            "\u001b[90m 1\u001b[39m mpg                   0             1  20.1     6.03   10.4   15.4   19.2 \n",
            "\u001b[90m 2\u001b[39m cyl                   0             1   6.19    1.79    4      4      6   \n",
            "\u001b[90m 3\u001b[39m disp                  0             1 231.    124.     71.1  121.   196.  \n",
            "\u001b[90m 4\u001b[39m hp                    0             1 147.     68.6    52     96.5  123   \n",
            "\u001b[90m 5\u001b[39m drat                  0             1   3.60    0.535   2.76   3.08   3.70\n",
            "\u001b[90m 6\u001b[39m wt                    0             1   3.22    0.978   1.51   2.58   3.32\n",
            "\u001b[90m 7\u001b[39m qsec                  0             1  17.8     1.79   14.5   16.9   17.7 \n",
            "\u001b[90m 8\u001b[39m vs                    0             1   0.438   0.504   0      0      0   \n",
            "\u001b[90m 9\u001b[39m am                    0             1   0.406   0.499   0      0      0   \n",
            "\u001b[90m10\u001b[39m gear                  0             1   3.69    0.738   3      3      4   \n",
            "\u001b[90m11\u001b[39m carb                  0             1   2.81    1.62    1      2      2   \n",
            "\u001b[90m12\u001b[39m mpg_squared           0             1 439.    268.    108.   238.   369.  \n",
            "      p75    p100 hist \n",
            "\u001b[90m 1\u001b[39m  22.8    33.9  ▃▇▅▁▂\n",
            "\u001b[90m 2\u001b[39m   8       8    ▆▁▃▁▇\n",
            "\u001b[90m 3\u001b[39m 326     472    ▇▃▃▃▂\n",
            "\u001b[90m 4\u001b[39m 180     335    ▇▇▆▃▁\n",
            "\u001b[90m 5\u001b[39m   3.92    4.93 ▇▃▇▅▁\n",
            "\u001b[90m 6\u001b[39m   3.61    5.42 ▃▃▇▁▂\n",
            "\u001b[90m 7\u001b[39m  18.9    22.9  ▃▇▇▂▁\n",
            "\u001b[90m 8\u001b[39m   1       1    ▇▁▁▁▆\n",
            "\u001b[90m 9\u001b[39m   1       1    ▇▁▁▁▆\n",
            "\u001b[90m10\u001b[39m   4       5    ▇▁▆▁▂\n",
            "\u001b[90m11\u001b[39m   4       8    ▇▂▅▁▁\n",
            "\u001b[90m12\u001b[39m 520.   \u001b[4m1\u001b[24m149.   ▇▇▁▂▁\n"
          ]
        }
      ]
    },
    {
      "cell_type": "markdown",
      "source": [
        "## ggplot\n",
        "\n",
        "Maybe we're curious about the relationship between fuel efficiency (`mpg`) and horsepower (`hp`). Let's plot it - but first we'll install `ggplot2`, widely considered to be the best data visualization package in R."
      ],
      "metadata": {
        "id": "fSCo05OHWzID"
      }
    },
    {
      "cell_type": "code",
      "source": [
        "#install.packages(\"ggplot2\")\n",
        "library(ggplot2)\n",
        "# The key function from the ggplot2 package is ggplot(). Let's look at the documentation:\n",
        "\n",
        "?ggplot"
      ],
      "metadata": {
        "colab": {
          "base_uri": "https://localhost:8080/"
        },
        "id": "uXvP6Du-XCP2",
        "outputId": "375a832e-fc00-4bd3-9321-3888b661d699"
      },
      "execution_count": null,
      "outputs": [
        {
          "output_type": "stream",
          "name": "stderr",
          "text": [
            "Warning message in fetch(key):\n",
            "“internal error -3 in R_decompress1”\n",
            "ERROR while rich displaying an object: Error in fetch(key): lazy-load database '/usr/local/lib/R/site-library/ggplot2/help/ggplot2.rdb' is corrupt\n",
            "\n",
            "Traceback:\n",
            "1. tryCatch(withCallingHandlers({\n",
            " .     if (!mime %in% names(repr::mime2repr)) \n",
            " .         stop(\"No repr_* for mimetype \", mime, \" in repr::mime2repr\")\n",
            " .     rpr <- repr::mime2repr[[mime]](obj)\n",
            " .     if (is.null(rpr)) \n",
            " .         return(NULL)\n",
            " .     prepare_content(is.raw(rpr), rpr)\n",
            " . }, error = error_handler), error = outer_handler)\n",
            "2. tryCatchList(expr, classes, parentenv, handlers)\n",
            "3. tryCatchOne(expr, names, parentenv, handlers[[1L]])\n",
            "4. doTryCatch(return(expr), name, parentenv, handler)\n",
            "5. withCallingHandlers({\n",
            " .     if (!mime %in% names(repr::mime2repr)) \n",
            " .         stop(\"No repr_* for mimetype \", mime, \" in repr::mime2repr\")\n",
            " .     rpr <- repr::mime2repr[[mime]](obj)\n",
            " .     if (is.null(rpr)) \n",
            " .         return(NULL)\n",
            " .     prepare_content(is.raw(rpr), rpr)\n",
            " . }, error = error_handler)\n",
            "6. repr::mime2repr[[mime]](obj)\n",
            "7. repr_text.help_files_with_topic(obj)\n",
            "8. repr_help_files_with_topic_generic(obj, Rd2txt)\n",
            "9. get_help_file(file)\n",
            "10. fetch_rd_db(rd_db, basename(file))\n",
            "11. lazyLoadDBexec(filebase, fun)\n",
            "12. fun(environment())\n",
            "13. fetch(key)\n"
          ]
        }
      ]
    },
    {
      "cell_type": "markdown",
      "source": [
        "We see that the first argument should be the data.frame that our variables will come from. The second argument is a function itself: the `aes()` function, in which we will define our x and y variables.\n",
        "\n",
        " Let's try:"
      ],
      "metadata": {
        "id": "xNfpsSWjXKBR"
      }
    },
    {
      "cell_type": "code",
      "source": [
        "ggplot(mtcars, aes(x = mpg, y = hp))"
      ],
      "metadata": {
        "colab": {
          "base_uri": "https://localhost:8080/",
          "height": 437
        },
        "id": "jO7l7kwSXT7q",
        "outputId": "a34bc6f2-0bf6-4813-b73b-b70e375846c0"
      },
      "execution_count": null,
      "outputs": [
        {
          "output_type": "display_data",
          "data": {
            "text/plain": [
              "plot without title"
            ],
            "image/png": "[encoded data removed]"
          },
          "metadata": {
            "image/png": {
              "width": 420,
              "height": 420
            }
          }
        }
      ]
    },
    {
      "cell_type": "markdown",
      "source": [
        "It's a plot, but there's nothing in it! That's because we haven't added a \"geom\" layer to the plot, which is how ggplot knows the type of plot that we want. We add layers with the `+` operator. In this case, we want a scatterplot, so let's use geom_point():"
      ],
      "metadata": {
        "id": "iV8Zx4GEXXgf"
      }
    },
    {
      "cell_type": "code",
      "source": [
        "ggplot(mtcars, aes(x = hp, y = mpg)) +\n",
        "  geom_point()"
      ],
      "metadata": {
        "colab": {
          "base_uri": "https://localhost:8080/",
          "height": 437
        },
        "id": "AzFs0tAPXXNk",
        "outputId": "dd878005-f8ba-48d4-8d93-5708681923cc"
      },
      "execution_count": null,
      "outputs": [
        {
          "output_type": "display_data",
          "data": {
            "text/plain": [
              "plot without title"
            ],
            "image/png": "[encoded data removed]"
          },
          "metadata": {
            "image/png": {
              "width": 420,
              "height": 420
            }
          }
        }
      ]
    },
    {
      "cell_type": "markdown",
      "source": [
        "Yep, sure looks like a negative relationship! That explains why my Honda Civic is so damn slow. Maybe we want to add a trend line, which we can easily do by adding another layer:\n"
      ],
      "metadata": {
        "id": "odNCDsoEXgwL"
      }
    },
    {
      "cell_type": "code",
      "source": [
        "ggplot(mtcars, aes(x = hp, y = mpg)) +\n",
        "  geom_point() +\n",
        "  geom_smooth()"
      ],
      "metadata": {
        "colab": {
          "base_uri": "https://localhost:8080/",
          "height": 472
        },
        "id": "aDoAeWV9Xjdy",
        "outputId": "2670b0b7-1a2b-4cd3-819f-04b6e465a155"
      },
      "execution_count": null,
      "outputs": [
        {
          "output_type": "stream",
          "name": "stderr",
          "text": [
            "`geom_smooth()` using method = 'loess' and formula 'y ~ x'\n",
            "\n"
          ]
        },
        {
          "output_type": "display_data",
          "data": {
            "text/plain": [
              "plot without title"
            ],
            "image/png": "[encoded data removed]"
          },
          "metadata": {
            "image/png": {
              "width": 420,
              "height": 420
            }
          }
        }
      ]
    },
    {
      "cell_type": "markdown",
      "source": [
        "Nice. Additional layers allow us to change the axis labels and the \"theme.\""
      ],
      "metadata": {
        "id": "Vvgbbq91XnSp"
      }
    },
    {
      "cell_type": "code",
      "source": [
        "ggplot(mtcars, aes(x = hp, y = mpg)) +\n",
        "  geom_point() +\n",
        "  geom_smooth() +\n",
        "  labs(x = \"Horsepower\", y = \"Miles per gallon\") +\n",
        "  theme_bw()"
      ],
      "metadata": {
        "colab": {
          "base_uri": "https://localhost:8080/",
          "height": 472
        },
        "id": "-lx35CkDXmcd",
        "outputId": "18dd0983-9523-40f1-d436-f5e86fa29edf"
      },
      "execution_count": null,
      "outputs": [
        {
          "output_type": "stream",
          "name": "stderr",
          "text": [
            "`geom_smooth()` using method = 'loess' and formula 'y ~ x'\n",
            "\n"
          ]
        },
        {
          "output_type": "display_data",
          "data": {
            "text/plain": [
              "plot without title"
            ],
            "image/png": "[encoded data removed]"
          },
          "metadata": {
            "image/png": {
              "width": 420,
              "height": 420
            }
          }
        }
      ]
    },
    {
      "cell_type": "markdown",
      "source": [
        "We won't dive too deep into analysis here - you'll get to that later. But if we wanted to conduct a simple bivariate regression, we could do that using the `lm()` function (short for 'linear model')."
      ],
      "metadata": {
        "id": "z6tFJC1XX3jR"
      }
    },
    {
      "cell_type": "code",
      "source": [
        "reg_model <- lm(mpg ~ hp, data = mtcars)\n",
        "\n",
        "summary(reg_model)"
      ],
      "metadata": {
        "colab": {
          "base_uri": "https://localhost:8080/",
          "height": 329
        },
        "id": "prnYRkwoX7YI",
        "outputId": "a8a4e152-6739-46e0-a905-027d0637caa0"
      },
      "execution_count": null,
      "outputs": [
        {
          "output_type": "display_data",
          "data": {
            "text/plain": [
              "\n",
              "Call:\n",
              "lm(formula = mpg ~ hp, data = mtcars)\n",
              "\n",
              "Residuals:\n",
              "    Min      1Q  Median      3Q     Max \n",
              "-5.7121 -2.1122 -0.8854  1.5819  8.2360 \n",
              "\n",
              "Coefficients:\n",
              "            Estimate Std. Error t value Pr(>|t|)    \n",
              "(Intercept) 30.09886    1.63392  18.421  < 2e-16 ***\n",
              "hp          -0.06823    0.01012  -6.742 1.79e-07 ***\n",
              "---\n",
              "Signif. codes:  0 ‘***’ 0.001 ‘**’ 0.01 ‘*’ 0.05 ‘.’ 0.1 ‘ ’ 1\n",
              "\n",
              "Residual standard error: 3.863 on 30 degrees of freedom\n",
              "Multiple R-squared:  0.6024,\tAdjusted R-squared:  0.5892 \n",
              "F-statistic: 45.46 on 1 and 30 DF,  p-value: 1.788e-07\n"
            ]
          },
          "metadata": {}
        }
      ]
    },
    {
      "cell_type": "markdown",
      "source": [
        "# Web-scraping with R\n",
        "\n",
        "R is a flexible and powerful language, and there's a lot that you can do with it. I strongly suggest that you invest some time in learning programming skills, particularly during your first few years of the program: this will pay dividends when you are working on larger research projects. Here are a few brief examples of things I've  done with R recently:\n",
        "\n",
        "Web-scraping: the below code generates URLs for different pages on the OECD's website, writes a scraping function that extracts all useful  information from each page, runs the function on each of the URLs, and combines the results into one data.frame."
      ],
      "metadata": {
        "id": "6jzuxmlzX-Kz"
      }
    },
    {
      "cell_type": "code",
      "source": [
        "library(tidyverse)\n",
        "library(rvest)\n",
        "library(purrr)"
      ],
      "metadata": {
        "id": "qEg_BHFGYIHb",
        "colab": {
          "base_uri": "https://localhost:8080/"
        },
        "outputId": "f4db795e-e31c-4184-c9d2-53bb2996e28d"
      },
      "execution_count": null,
      "outputs": [
        {
          "output_type": "stream",
          "name": "stderr",
          "text": [
            "Warning message in system(\"timedatectl\", intern = TRUE):\n",
            "“running command 'timedatectl' had status 1”\n",
            "── \u001b[1mAttaching packages\u001b[22m ─────────────────────────────────────── tidyverse 1.3.1 ──\n",
            "\n",
            "\u001b[32m✔\u001b[39m \u001b[34mggplot2\u001b[39m 3.3.6     \u001b[32m✔\u001b[39m \u001b[34mpurrr  \u001b[39m 0.3.4\n",
            "\u001b[32m✔\u001b[39m \u001b[34mtibble \u001b[39m 3.1.7     \u001b[32m✔\u001b[39m \u001b[34mdplyr  \u001b[39m 1.0.9\n",
            "\u001b[32m✔\u001b[39m \u001b[34mtidyr  \u001b[39m 1.2.0     \u001b[32m✔\u001b[39m \u001b[34mstringr\u001b[39m 1.4.0\n",
            "\u001b[32m✔\u001b[39m \u001b[34mreadr  \u001b[39m 2.1.2     \u001b[32m✔\u001b[39m \u001b[34mforcats\u001b[39m 0.5.1\n",
            "\n",
            "── \u001b[1mConflicts\u001b[22m ────────────────────────────────────────── tidyverse_conflicts() ──\n",
            "\u001b[31m✖\u001b[39m \u001b[34mdplyr\u001b[39m::\u001b[32mfilter()\u001b[39m masks \u001b[34mstats\u001b[39m::filter()\n",
            "\u001b[31m✖\u001b[39m \u001b[34mdplyr\u001b[39m::\u001b[32mlag()\u001b[39m    masks \u001b[34mstats\u001b[39m::lag()\n",
            "\n",
            "\n",
            "Attaching package: ‘rvest’\n",
            "\n",
            "\n",
            "The following object is masked from ‘package:readr’:\n",
            "\n",
            "    guess_encoding\n",
            "\n",
            "\n"
          ]
        }
      ]
    },
    {
      "cell_type": "code",
      "source": [
        "# Here's the function that makes the URLs:\n",
        "\n",
        "get_urls <- function(country, n_instances) {\n",
        "  \n",
        "  first_9 <- tibble(urls = paste0(\"http://mneguidelines.oecd.org/database/instances/\",\n",
        "                                  country,\n",
        "                                  \"000\",\n",
        "                                  as.character(1:9),\n",
        "                                  \".htm\"))\n",
        "  \n",
        "  next_set <- tibble(urls = paste0(\"http://mneguidelines.oecd.org/database/instances/\",\n",
        "                                   country,\n",
        "                                   \"00\",\n",
        "                                   as.character(10:n_instances),\n",
        "                                   \".htm\"))\n",
        "  \n",
        "  return(bind_rows(first_9, next_set))\n",
        "  \n",
        "}\n",
        "\n",
        "# Now I'll use this function to create the 48 URLs that are \n",
        "# associated with the US.\n",
        "\n",
        "us_urls <- get_urls(country = \"us\", n_instances = 48)\n",
        "\n",
        "# Here's the scraping function. Note the use of pipes:\n",
        "\n",
        "scrape_table <- function(url) {\n",
        "  \n",
        "  read_html(url) %>% # read html web page\n",
        "    \n",
        "    html_node('table') %>% # extract node with class \"table\"\n",
        "    \n",
        "    html_table(header = F) %>% # coerce html table to dataframe\n",
        "    \n",
        "    pivot_wider(names_from = X1, values_from = X2) %>% # switch columns and rows\n",
        "    \n",
        "    rename(incident_title = 1)  %>% # rename first variable\n",
        "    \n",
        "    mutate(incident_url = url) # add url as a variable\n",
        "}\n",
        "\n",
        "# Here's an example of what it does:\n",
        "\n",
        "scrape_table(us_urls$urls[1]) %>% \n",
        "  View()\n",
        "\n"
      ],
      "metadata": {
        "id": "YTMZrjh8YL8T",
        "colab": {
          "base_uri": "https://localhost:8080/",
          "height": 809
        },
        "outputId": "5e1231ec-3a56-44d4-f3c6-d8c71e42b037"
      },
      "execution_count": null,
      "outputs": [
        {
          "output_type": "display_data",
          "data": {
            "text/plain": [
              "  incident_title                    Lead NCP      Supporting NCP(s)\n",
              "1 Chemical manufacturing in the USA United States France           \n",
              "  Description                                                                                                                                        \n",
              "1 Specific instance notified by a trade union regarding the activities of a US subsidiary of a French multinational enterprises operating in the USA.\n",
              "  Theme(s)                            Date        Host country(ies) Source     \n",
              "1 Employment and industrial relations 12 Jun 2000 United States     Trade Union\n",
              "  Industry sector Status   \n",
              "1 Manufacturing   Concluded\n",
              "  Summary                                                                                                                                                                                                                                                                                                                                                                           \n",
              "1 In June 2000, the US NCP received a request for review from a trade union alleging that a US subsidiary of a French multinational enterprise had breached the employment and industrial relations provisions of the Guidelines. \\nThe trade union withdrew its request for NCP intervention after the parties settled their differences through a collective bargaining agreement.\n",
              "  incident_url                                               \n",
              "1 http://mneguidelines.oecd.org/database/instances/us0001.htm"
            ],
            "text/html": [
              "<table class=\"dataframe\">\n",
              "<caption>A tibble: 1 × 12</caption>\n",
              "<thead>\n",
              "\t<tr><th scope=col>incident_title</th><th scope=col>Lead NCP</th><th scope=col>Supporting NCP(s)</th><th scope=col>Description</th><th scope=col>Theme(s)</th><th scope=col>Date</th><th scope=col>Host country(ies)</th><th scope=col>Source</th><th scope=col>Industry sector</th><th scope=col>Status</th><th scope=col>Summary</th><th scope=col>incident_url</th></tr>\n",
              "\t<tr><th scope=col>&lt;chr&gt;</th><th scope=col>&lt;chr&gt;</th><th scope=col>&lt;chr&gt;</th><th scope=col>&lt;chr&gt;</th><th scope=col>&lt;chr&gt;</th><th scope=col>&lt;chr&gt;</th><th scope=col>&lt;chr&gt;</th><th scope=col>&lt;chr&gt;</th><th scope=col>&lt;chr&gt;</th><th scope=col>&lt;chr&gt;</th><th scope=col>&lt;chr&gt;</th><th scope=col>&lt;chr&gt;</th></tr>\n",
              "</thead>\n",
              "<tbody>\n",
              "\t<tr><td>Chemical manufacturing in the USA</td><td>United States</td><td>France</td><td>Specific instance notified by a trade union regarding the activities of a US subsidiary of a French multinational enterprises operating in the USA.</td><td>Employment and industrial relations</td><td>12 Jun 2000</td><td>United States</td><td>Trade Union</td><td>Manufacturing</td><td>Concluded</td><td>In June 2000, the US NCP received a request for review from a trade union alleging that a US subsidiary of a French multinational enterprise had breached the employment and industrial relations provisions of the Guidelines. \n",
              "The trade union withdrew its request for NCP intervention after the parties settled their differences through a collective bargaining agreement.</td><td>http://mneguidelines.oecd.org/database/instances/us0001.htm</td></tr>\n",
              "</tbody>\n",
              "</table>\n"
            ],
            "text/markdown": "\nA tibble: 1 × 12\n\n| incident_title &lt;chr&gt; | Lead NCP &lt;chr&gt; | Supporting NCP(s) &lt;chr&gt; | Description &lt;chr&gt; | Theme(s) &lt;chr&gt; | Date &lt;chr&gt; | Host country(ies) &lt;chr&gt; | Source &lt;chr&gt; | Industry sector &lt;chr&gt; | Status &lt;chr&gt; | Summary &lt;chr&gt; | incident_url &lt;chr&gt; |\n|---|---|---|---|---|---|---|---|---|---|---|---|\n| Chemical manufacturing in the USA | United States | France | Specific instance notified by a trade union regarding the activities of a US subsidiary of a French multinational enterprises operating in the USA. | Employment and industrial relations | 12 Jun 2000 | United States | Trade Union | Manufacturing | Concluded | In June 2000, the US NCP received a request for review from a trade union alleging that a US subsidiary of a French multinational enterprise had breached the employment and industrial relations provisions of the Guidelines. \nThe trade union withdrew its request for NCP intervention after the parties settled their differences through a collective bargaining agreement. | http://mneguidelines.oecd.org/database/instances/us0001.htm |\n\n",
            "text/latex": "A tibble: 1 × 12\n\\begin{tabular}{llllllllllll}\n incident\\_title & Lead NCP & Supporting NCP(s) & Description & Theme(s) & Date & Host country(ies) & Source & Industry sector & Status & Summary & incident\\_url\\\\\n <chr> & <chr> & <chr> & <chr> & <chr> & <chr> & <chr> & <chr> & <chr> & <chr> & <chr> & <chr>\\\\\n\\hline\n\t Chemical manufacturing in the USA & United States & France & Specific instance notified by a trade union regarding the activities of a US subsidiary of a French multinational enterprises operating in the USA. & Employment and industrial relations & 12 Jun 2000 & United States & Trade Union & Manufacturing & Concluded & In June 2000, the US NCP received a request for review from a trade union alleging that a US subsidiary of a French multinational enterprise had breached the employment and industrial relations provisions of the Guidelines. \nThe trade union withdrew its request for NCP intervention after the parties settled their differences through a collective bargaining agreement. & http://mneguidelines.oecd.org/database/instances/us0001.htm\\\\\n\\end{tabular}\n"
          },
          "metadata": {}
        }
      ]
    },
    {
      "cell_type": "markdown",
      "source": [
        "We want to do this for every url in the us_urls vector. We'll use the `map_dfr()` function from the purrr package, which applies a  function to each element in a vector and creates a data.frame from the output. This will take a second to run."
      ],
      "metadata": {
        "id": "K5r5WuhhiXzO"
      }
    },
    {
      "cell_type": "code",
      "source": [
        "scraped_data <- map_dfr(us_urls$urls, scrape_table)\n",
        "\n",
        "# View(scraped_data)\n",
        "head(scraped_data, 2)\n",
        "# In less than 50 lines of code, we've just created a new dataset by scraping webpages."
      ],
      "metadata": {
        "colab": {
          "base_uri": "https://localhost:8080/",
          "height": 1000
        },
        "id": "TNaPHWgsiXno",
        "outputId": "8e91cc52-836c-47bf-f7b0-45280b57bdab"
      },
      "execution_count": null,
      "outputs": [
        {
          "output_type": "display_data",
          "data": {
            "text/html": [
              "<table class=\"dataframe\">\n",
              "<caption>A tibble: 2 × 12</caption>\n",
              "<thead>\n",
              "\t<tr><th scope=col>incident_title</th><th scope=col>Lead NCP</th><th scope=col>Supporting NCP(s)</th><th scope=col>Description</th><th scope=col>Theme(s)</th><th scope=col>Date</th><th scope=col>Host country(ies)</th><th scope=col>Source</th><th scope=col>Industry sector</th><th scope=col>Status</th><th scope=col>Summary</th><th scope=col>incident_url</th></tr>\n",
              "\t<tr><th scope=col>&lt;chr&gt;</th><th scope=col>&lt;chr&gt;</th><th scope=col>&lt;chr&gt;</th><th scope=col>&lt;chr&gt;</th><th scope=col>&lt;chr&gt;</th><th scope=col>&lt;chr&gt;</th><th scope=col>&lt;chr&gt;</th><th scope=col>&lt;chr&gt;</th><th scope=col>&lt;chr&gt;</th><th scope=col>&lt;chr&gt;</th><th scope=col>&lt;chr&gt;</th><th scope=col>&lt;chr&gt;</th></tr>\n",
              "</thead>\n",
              "<tbody>\n",
              "\t<tr><td>Chemical manufacturing in the USA       </td><td>United States</td><td>France       </td><td>Specific instance notified by a trade union regarding the activities of a US subsidiary of a French multinational enterprises operating in the USA.</td><td>Employment and industrial relations</td><td>12 Jun 2000</td><td>United States</td><td>Trade Union</td><td>Manufacturing             </td><td>Concluded   </td><td>In June 2000, the US NCP received a request for review from a trade union alleging that a US subsidiary of a French multinational enterprise had breached the employment and industrial relations provisions of the Guidelines. \n",
              "The trade union withdrew its request for NCP intervention after the parties settled their differences through a collective bargaining agreement.                                                                                                                                        </td><td>http://mneguidelines.oecd.org/database/instances/us0001.htm</td></tr>\n",
              "\t<tr><td>Employment issues in the maritime sector</td><td>United States</td><td>None Selected</td><td>Specific instance notified by a trade union regarding the activities of US multinational enterprise operating in the USA.                          </td><td>Employment and industrial relations</td><td>2 Feb 2001 </td><td>United States</td><td>Trade Union</td><td>Transportation and storage</td><td>Not accepted</td><td>In February 2001, the US NCP received a request for a review from a trade union alleging that a US multinational enterprise was breaching the employment and industrial relations provisions of the Guidelines in the maritime sector.\n",
              "After lengthy consultations with the US National Labor Relations Board (NLRB) and the parties, the NCP concluded that its further involvement was not warranted. A large factor in this decision was the NLRB's availability to consider the matter on the basis of US labour law.</td><td>http://mneguidelines.oecd.org/database/instances/us0002.htm</td></tr>\n",
              "</tbody>\n",
              "</table>\n"
            ],
            "text/markdown": "\nA tibble: 2 × 12\n\n| incident_title &lt;chr&gt; | Lead NCP &lt;chr&gt; | Supporting NCP(s) &lt;chr&gt; | Description &lt;chr&gt; | Theme(s) &lt;chr&gt; | Date &lt;chr&gt; | Host country(ies) &lt;chr&gt; | Source &lt;chr&gt; | Industry sector &lt;chr&gt; | Status &lt;chr&gt; | Summary &lt;chr&gt; | incident_url &lt;chr&gt; |\n|---|---|---|---|---|---|---|---|---|---|---|---|\n| Chemical manufacturing in the USA        | United States | France        | Specific instance notified by a trade union regarding the activities of a US subsidiary of a French multinational enterprises operating in the USA. | Employment and industrial relations | 12 Jun 2000 | United States | Trade Union | Manufacturing              | Concluded    | In June 2000, the US NCP received a request for review from a trade union alleging that a US subsidiary of a French multinational enterprise had breached the employment and industrial relations provisions of the Guidelines. \nThe trade union withdrew its request for NCP intervention after the parties settled their differences through a collective bargaining agreement.                                                                                                                                         | http://mneguidelines.oecd.org/database/instances/us0001.htm |\n| Employment issues in the maritime sector | United States | None Selected | Specific instance notified by a trade union regarding the activities of US multinational enterprise operating in the USA.                           | Employment and industrial relations | 2 Feb 2001  | United States | Trade Union | Transportation and storage | Not accepted | In February 2001, the US NCP received a request for a review from a trade union alleging that a US multinational enterprise was breaching the employment and industrial relations provisions of the Guidelines in the maritime sector.\nAfter lengthy consultations with the US National Labor Relations Board (NLRB) and the parties, the NCP concluded that its further involvement was not warranted. A large factor in this decision was the NLRB's availability to consider the matter on the basis of US labour law. | http://mneguidelines.oecd.org/database/instances/us0002.htm |\n\n",
            "text/latex": "A tibble: 2 × 12\n\\begin{tabular}{llllllllllll}\n incident\\_title & Lead NCP & Supporting NCP(s) & Description & Theme(s) & Date & Host country(ies) & Source & Industry sector & Status & Summary & incident\\_url\\\\\n <chr> & <chr> & <chr> & <chr> & <chr> & <chr> & <chr> & <chr> & <chr> & <chr> & <chr> & <chr>\\\\\n\\hline\n\t Chemical manufacturing in the USA        & United States & France        & Specific instance notified by a trade union regarding the activities of a US subsidiary of a French multinational enterprises operating in the USA. & Employment and industrial relations & 12 Jun 2000 & United States & Trade Union & Manufacturing              & Concluded    & In June 2000, the US NCP received a request for review from a trade union alleging that a US subsidiary of a French multinational enterprise had breached the employment and industrial relations provisions of the Guidelines. \nThe trade union withdrew its request for NCP intervention after the parties settled their differences through a collective bargaining agreement.                                                                                                                                         & http://mneguidelines.oecd.org/database/instances/us0001.htm\\\\\n\t Employment issues in the maritime sector & United States & None Selected & Specific instance notified by a trade union regarding the activities of US multinational enterprise operating in the USA.                           & Employment and industrial relations & 2 Feb 2001  & United States & Trade Union & Transportation and storage & Not accepted & In February 2001, the US NCP received a request for a review from a trade union alleging that a US multinational enterprise was breaching the employment and industrial relations provisions of the Guidelines in the maritime sector.\nAfter lengthy consultations with the US National Labor Relations Board (NLRB) and the parties, the NCP concluded that its further involvement was not warranted. A large factor in this decision was the NLRB's availability to consider the matter on the basis of US labour law. & http://mneguidelines.oecd.org/database/instances/us0002.htm\\\\\n\\end{tabular}\n",
            "text/plain": [
              "  incident_title                           Lead NCP      Supporting NCP(s)\n",
              "1 Chemical manufacturing in the USA        United States France           \n",
              "2 Employment issues in the maritime sector United States None Selected    \n",
              "  Description                                                                                                                                        \n",
              "1 Specific instance notified by a trade union regarding the activities of a US subsidiary of a French multinational enterprises operating in the USA.\n",
              "2 Specific instance notified by a trade union regarding the activities of US multinational enterprise operating in the USA.                          \n",
              "  Theme(s)                            Date        Host country(ies) Source     \n",
              "1 Employment and industrial relations 12 Jun 2000 United States     Trade Union\n",
              "2 Employment and industrial relations 2 Feb 2001  United States     Trade Union\n",
              "  Industry sector            Status      \n",
              "1 Manufacturing              Concluded   \n",
              "2 Transportation and storage Not accepted\n",
              "  Summary                                                                                                                                                                                                                                                                                                                                                                                                                                                                                                                   \n",
              "1 In June 2000, the US NCP received a request for review from a trade union alleging that a US subsidiary of a French multinational enterprise had breached the employment and industrial relations provisions of the Guidelines. \\nThe trade union withdrew its request for NCP intervention after the parties settled their differences through a collective bargaining agreement.                                                                                                                                        \n",
              "2 In February 2001, the US NCP received a request for a review from a trade union alleging that a US multinational enterprise was breaching the employment and industrial relations provisions of the Guidelines in the maritime sector.\\nAfter lengthy consultations with the US National Labor Relations Board (NLRB) and the parties, the NCP concluded that its further involvement was not warranted. A large factor in this decision was the NLRB's availability to consider the matter on the basis of US labour law.\n",
              "  incident_url                                               \n",
              "1 http://mneguidelines.oecd.org/database/instances/us0001.htm\n",
              "2 http://mneguidelines.oecd.org/database/instances/us0002.htm"
            ]
          },
          "metadata": {}
        }
      ]
    },
    {
      "cell_type": "markdown",
      "source": [
        "# Visualization with R\n",
        "\n",
        "You can also do a lot of tweaking to make some really cool figures. Here a couple examples:"
      ],
      "metadata": {
        "id": "i7ImYKJWYiHx"
      }
    },
    {
      "cell_type": "code",
      "source": [
        "# example 1\n",
        "\n",
        "fig2 <- read_csv(\"JT2_fig2_data.csv\") %>% \n",
        "  group_by(state) %>% \n",
        "  summarize(abatement = mean(abatement2017, na.rm = T)) %>% \n",
        "  mutate(nonGAAP = case_when(\n",
        "    state %in% c(\"Alabama\",\"Alaska\",\"Idaho\",\"Illinois\",\n",
        "                 \"Indiana\",\"Kansas\",\"Michigan\",\"Missouri\",\n",
        "                 \"New York\",\"North Dakota\",\"Oklahoma\",\n",
        "                 \"Washington\",\"West Virginia\") == T ~ 1,\n",
        "    TRUE ~ 0\n",
        "  )) %>% \n",
        "  ggplot(aes(x = fct_reorder(state, abatement), y = abatement*100,\n",
        "             color = as.factor(nonGAAP))) +\n",
        "  geom_point() +\n",
        "  coord_flip() +\n",
        "  theme_bw() +\n",
        "  theme(legend.position = \"bottom\") +\n",
        "  labs(y = \"% of Municipalities Reporting Incentives\",\n",
        "       x = \"\",\n",
        "       color = \"Non-GAAP State\")\n",
        "\n",
        "fig2"
      ],
      "metadata": {
        "id": "IYqC05PZYYBq"
      },
      "execution_count": null,
      "outputs": []
    },
    {
      "cell_type": "code",
      "source": [
        "# example 2\n",
        "\n",
        "figurex <- read_csv(\"diffusion_data.csv\") %>% \n",
        "  slice(-1:-19) %>% \n",
        "  filter(Country %in% c(\"United States\", \"Japan\", \"China\", \"United Kingdom\",\n",
        "                        \"France\", \"South Korea\", \"Hong Kong\", \"India\",\n",
        "                        \"Canada\", \"Germany\", \"Switzerland\", \"Taiwan\")) %>% \n",
        "  group_by(Country, Year) %>% \n",
        "  summarize(members = sum(ungc_member),\n",
        "            prop_members = sum(ungc_member)/n()) %>% \n",
        "ggplot(aes(x = Year, y = prop_members, group = Country,\n",
        "           label = Country)) +\n",
        "  geom_line() +\n",
        "  facet_wrap(vars(Country)) +\n",
        "  labs(x = \"\", y = \"Proportion UNGC Members\") +\n",
        "  theme_bw()\n",
        "\n",
        "figurex"
      ],
      "metadata": {
        "id": "FvX7zlg6Yapr"
      },
      "execution_count": null,
      "outputs": []
    }
  ]
}